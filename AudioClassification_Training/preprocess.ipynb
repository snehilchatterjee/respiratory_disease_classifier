{
 "cells": [
  {
   "cell_type": "code",
   "execution_count": 1,
   "id": "83eeca37-24b0-466c-a5ae-4e7d79bcc28c",
   "metadata": {},
   "outputs": [],
   "source": [
    "#Importing audio file paths\n",
    "import os\n",
    "\n",
    "#For managing dataframe\n",
    "import pandas as pd\n",
    "import numpy as np\n",
    "from sklearn.model_selection import train_test_split\n",
    "\n",
    "#Import plotting\n",
    "import matplotlib.pyplot as plt\n",
    "import seaborn as sb\n",
    "\n",
    "#For managing sound\n",
    "import librosa\n",
    "import soundfile as sf\n",
    "\n",
    "# Misc.\n",
    "import warnings\n",
    "\n",
    "warnings.filterwarnings(\"ignore\")\n",
    "pd.set_option('display.max_colwidth', 1000)"
   ]
  },
  {
   "cell_type": "markdown",
   "id": "a4607184-9567-4814-925e-7209e2ae16a2",
   "metadata": {},
   "source": [
    "### Recursively get files"
   ]
  },
  {
   "cell_type": "code",
   "execution_count": 2,
   "id": "f787c28f-994e-4abb-a0d4-66c076e95d29",
   "metadata": {},
   "outputs": [],
   "source": [
    "def file_fetch(src,audio_paths,file=None):\n",
    "    l=os.listdir(src)\n",
    "    if(len(l)!=0):\n",
    "        for i in range(len(l)):\n",
    "            if(file!=None):\n",
    "                if(file in l[i]):\n",
    "                    audio_paths.append(str(src+l[i]))\n",
    "            elif(\".\" not in l[i]):\n",
    "                try:\n",
    "                    audio_fetch(str(src+\"/\"+l[i]+\"/\"),audio_paths)\n",
    "                except:\n",
    "                    continue\n",
    "            else:\n",
    "                if(\".wav\" in l[i] or \".mp3\" in l[i] or \".aac\" in l[i]):\n",
    "                    audio_paths.append(str(src+l[i]))\n",
    "                            "
   ]
  },
  {
   "cell_type": "code",
   "execution_count": 3,
   "id": "d2952010-ee94-4678-bfbc-25d3528691c2",
   "metadata": {
    "scrolled": true
   },
   "outputs": [],
   "source": [
    "audio_files=[]\n",
    "text_files=[]\n",
    "file_fetch(\"../Sound_Classification/archive/respiratory_sound_database/Respiratory_Sound_Database/audio_and_txt_files/\",audio_files)\n",
    "file_fetch(\"../Sound_Classification/archive/respiratory_sound_database/Respiratory_Sound_Database/audio_and_txt_files/\",text_files,\".txt\")\n",
    "audio_files.sort()\n",
    "text_files.sort()\n",
    "\n",
    "df=pd.DataFrame(columns=[\"Audio\",\"Text\"])\n",
    "\n",
    "diagnosis=pd.read_csv(\"../Sound_Classification/archive/respiratory_sound_database/Respiratory_Sound_Database/patient_diagnosis.csv\",header=None)\n",
    "\n",
    "df[\"Audio\"]=audio_files\n",
    "df[\"Text\"]=text_files\n",
    "\n",
    "target=[]\n",
    "for i in range(len(df)):\n",
    "    target.append(diagnosis[diagnosis[0]==int(df.iloc[i][0].split(\"/\")[-1].split(\"_\")[0])][1].values[0])\n",
    "\n",
    "df[\"target\"]=target"
   ]
  },
  {
   "cell_type": "code",
   "execution_count": 4,
   "id": "57a2d409-895c-4b6a-95ce-ca6b47b8ca66",
   "metadata": {},
   "outputs": [
    {
     "data": {
      "text/html": [
       "<div>\n",
       "<style scoped>\n",
       "    .dataframe tbody tr th:only-of-type {\n",
       "        vertical-align: middle;\n",
       "    }\n",
       "\n",
       "    .dataframe tbody tr th {\n",
       "        vertical-align: top;\n",
       "    }\n",
       "\n",
       "    .dataframe thead th {\n",
       "        text-align: right;\n",
       "    }\n",
       "</style>\n",
       "<table border=\"1\" class=\"dataframe\">\n",
       "  <thead>\n",
       "    <tr style=\"text-align: right;\">\n",
       "      <th></th>\n",
       "      <th>Audio</th>\n",
       "      <th>Text</th>\n",
       "      <th>target</th>\n",
       "    </tr>\n",
       "  </thead>\n",
       "  <tbody>\n",
       "    <tr>\n",
       "      <th>0</th>\n",
       "      <td>../Sound_Classification/archive/respiratory_sound_database/Respiratory_Sound_Database/audio_and_txt_files/101_1b1_Al_sc_Meditron.wav</td>\n",
       "      <td>../Sound_Classification/archive/respiratory_sound_database/Respiratory_Sound_Database/audio_and_txt_files/101_1b1_Al_sc_Meditron.txt</td>\n",
       "      <td>URTI</td>\n",
       "    </tr>\n",
       "    <tr>\n",
       "      <th>1</th>\n",
       "      <td>../Sound_Classification/archive/respiratory_sound_database/Respiratory_Sound_Database/audio_and_txt_files/101_1b1_Pr_sc_Meditron.wav</td>\n",
       "      <td>../Sound_Classification/archive/respiratory_sound_database/Respiratory_Sound_Database/audio_and_txt_files/101_1b1_Pr_sc_Meditron.txt</td>\n",
       "      <td>URTI</td>\n",
       "    </tr>\n",
       "    <tr>\n",
       "      <th>2</th>\n",
       "      <td>../Sound_Classification/archive/respiratory_sound_database/Respiratory_Sound_Database/audio_and_txt_files/102_1b1_Ar_sc_Meditron.wav</td>\n",
       "      <td>../Sound_Classification/archive/respiratory_sound_database/Respiratory_Sound_Database/audio_and_txt_files/102_1b1_Ar_sc_Meditron.txt</td>\n",
       "      <td>Healthy</td>\n",
       "    </tr>\n",
       "    <tr>\n",
       "      <th>3</th>\n",
       "      <td>../Sound_Classification/archive/respiratory_sound_database/Respiratory_Sound_Database/audio_and_txt_files/103_2b2_Ar_mc_LittC2SE.wav</td>\n",
       "      <td>../Sound_Classification/archive/respiratory_sound_database/Respiratory_Sound_Database/audio_and_txt_files/103_2b2_Ar_mc_LittC2SE.txt</td>\n",
       "      <td>Asthma</td>\n",
       "    </tr>\n",
       "    <tr>\n",
       "      <th>4</th>\n",
       "      <td>../Sound_Classification/archive/respiratory_sound_database/Respiratory_Sound_Database/audio_and_txt_files/104_1b1_Al_sc_Litt3200.wav</td>\n",
       "      <td>../Sound_Classification/archive/respiratory_sound_database/Respiratory_Sound_Database/audio_and_txt_files/104_1b1_Al_sc_Litt3200.txt</td>\n",
       "      <td>COPD</td>\n",
       "    </tr>\n",
       "  </tbody>\n",
       "</table>\n",
       "</div>"
      ],
      "text/plain": [
       "                                                                                                                                  Audio  \\\n",
       "0  ../Sound_Classification/archive/respiratory_sound_database/Respiratory_Sound_Database/audio_and_txt_files/101_1b1_Al_sc_Meditron.wav   \n",
       "1  ../Sound_Classification/archive/respiratory_sound_database/Respiratory_Sound_Database/audio_and_txt_files/101_1b1_Pr_sc_Meditron.wav   \n",
       "2  ../Sound_Classification/archive/respiratory_sound_database/Respiratory_Sound_Database/audio_and_txt_files/102_1b1_Ar_sc_Meditron.wav   \n",
       "3  ../Sound_Classification/archive/respiratory_sound_database/Respiratory_Sound_Database/audio_and_txt_files/103_2b2_Ar_mc_LittC2SE.wav   \n",
       "4  ../Sound_Classification/archive/respiratory_sound_database/Respiratory_Sound_Database/audio_and_txt_files/104_1b1_Al_sc_Litt3200.wav   \n",
       "\n",
       "                                                                                                                                   Text  \\\n",
       "0  ../Sound_Classification/archive/respiratory_sound_database/Respiratory_Sound_Database/audio_and_txt_files/101_1b1_Al_sc_Meditron.txt   \n",
       "1  ../Sound_Classification/archive/respiratory_sound_database/Respiratory_Sound_Database/audio_and_txt_files/101_1b1_Pr_sc_Meditron.txt   \n",
       "2  ../Sound_Classification/archive/respiratory_sound_database/Respiratory_Sound_Database/audio_and_txt_files/102_1b1_Ar_sc_Meditron.txt   \n",
       "3  ../Sound_Classification/archive/respiratory_sound_database/Respiratory_Sound_Database/audio_and_txt_files/103_2b2_Ar_mc_LittC2SE.txt   \n",
       "4  ../Sound_Classification/archive/respiratory_sound_database/Respiratory_Sound_Database/audio_and_txt_files/104_1b1_Al_sc_Litt3200.txt   \n",
       "\n",
       "    target  \n",
       "0     URTI  \n",
       "1     URTI  \n",
       "2  Healthy  \n",
       "3   Asthma  \n",
       "4     COPD  "
      ]
     },
     "execution_count": 4,
     "metadata": {},
     "output_type": "execute_result"
    }
   ],
   "source": [
    "df.head(5)"
   ]
  },
  {
   "cell_type": "code",
   "execution_count": 5,
   "id": "a8da6504-013c-4803-b0ac-59e49dac0a74",
   "metadata": {},
   "outputs": [
    {
     "data": {
      "text/plain": [
       "target\n",
       "COPD              793\n",
       "Pneumonia          37\n",
       "Healthy            35\n",
       "URTI               23\n",
       "Bronchiectasis     16\n",
       "Bronchiolitis      13\n",
       "LRTI                2\n",
       "Asthma              1\n",
       "Name: count, dtype: int64"
      ]
     },
     "execution_count": 5,
     "metadata": {},
     "output_type": "execute_result"
    }
   ],
   "source": [
    "pd.Series(df[\"target\"]).value_counts()"
   ]
  },
  {
   "cell_type": "code",
   "execution_count": 6,
   "id": "db78e64b-c446-4e8f-a023-2993d66b95d9",
   "metadata": {},
   "outputs": [
    {
     "data": {
      "text/plain": [
       "target\n",
       "COPD              793\n",
       "Pneumonia          37\n",
       "Healthy            35\n",
       "URTI               23\n",
       "Bronchiectasis     16\n",
       "Bronchiolitis      13\n",
       "Name: count, dtype: int64"
      ]
     },
     "execution_count": 6,
     "metadata": {},
     "output_type": "execute_result"
    }
   ],
   "source": [
    "df = df[(df[\"target\"] != \"Asthma\") & (df[\"target\"] != \"LRTI\")]\n",
    "pd.Series(df[\"target\"]).value_counts()"
   ]
  },
  {
   "cell_type": "code",
   "execution_count": 7,
   "id": "064c2b66-56e2-4bff-9e15-72ccb5a7204c",
   "metadata": {},
   "outputs": [],
   "source": [
    "ds=df[[\"Audio\",\"Text\"]].values\n",
    "\n",
    "train_x,test_x,train_y,test_y=train_test_split(ds,df[\"target\"].values,test_size=0.25)\n",
    "\n",
    "timings=[]\n",
    "for i in ds:\n",
    "    wv,sr=librosa.load(i[0])\n",
    "    time=len(wv)/sr\n",
    "    timings.append(time)"
   ]
  },
  {
   "cell_type": "code",
   "execution_count": 8,
   "id": "d47b5e1b-f246-467d-8d49-1b34d73cc230",
   "metadata": {},
   "outputs": [
    {
     "data": {
      "text/plain": [
       "(687, 687, 230, 230)"
      ]
     },
     "execution_count": 8,
     "metadata": {},
     "output_type": "execute_result"
    }
   ],
   "source": [
    "len(train_x),len(train_y),len(test_x),len(test_y)"
   ]
  },
  {
   "cell_type": "code",
   "execution_count": 9,
   "id": "e50d4180-b8c2-45f7-9551-b34262a01e1f",
   "metadata": {},
   "outputs": [
    {
     "data": {
      "text/plain": [
       "<Axes: >"
      ]
     },
     "execution_count": 9,
     "metadata": {},
     "output_type": "execute_result"
    },
    {
     "data": {
      "image/png": "[encoded data removed]",
      "text/plain": [
       "<Figure size 1000x400 with 2 Axes>"
      ]
     },
     "metadata": {},
     "output_type": "display_data"
    }
   ],
   "source": [
    "plt.figure(figsize=(10,4))\n",
    "plt.subplot(1,2,1)\n",
    "sb.kdeplot(timings)\n",
    "plt.subplot(1,2,2)\n",
    "sb.boxenplot(timings)"
   ]
  },
  {
   "cell_type": "code",
   "execution_count": 10,
   "id": "09465727-879b-4826-8880-f50a70107414",
   "metadata": {},
   "outputs": [],
   "source": [
    "complete_data_train=pd.DataFrame(columns=[\"audio_path\",'start','end','crackles','weezels',\"target\"])\n",
    "complete_data_test=pd.DataFrame(columns=[\"audio_path\",'start','end','crackles','weezels',\"target\"])\n",
    "test=[]\n",
    "def make_dataframe(complete_data: pd.DataFrame(), ds: list, target: list):\n",
    "    for i in range(len(ds)):\n",
    "        for j in pd.read_table(ds[i][1],names=['start','end','crackles','weezels']).values:\n",
    "            l1=list(j)\n",
    "            l1.insert(0,ds[i][0])\n",
    "            l1.append(target[i])\n",
    "            complete_data=pd.concat([complete_data,pd.DataFrame(np.asarray(l1).reshape(1,-1),columns=[\"audio_path\",'start','end','crackles','weezels',\"target\"]),],axis=0)\n",
    "    return complete_data\n",
    "\n",
    "complete_data_train=make_dataframe(complete_data_train,train_x,train_y)\n",
    "complete_data_test=make_dataframe(complete_data_test,test_x,test_y)\n",
    "\n",
    "complete_data_train.reset_index(inplace=True,drop=True)\n",
    "complete_data_test.reset_index(inplace=True,drop=True)"
   ]
  },
  {
   "cell_type": "code",
   "execution_count": 11,
   "id": "b0b4c247-5d36-4ec6-b133-45aa1d76f63b",
   "metadata": {},
   "outputs": [
    {
     "data": {
      "text/plain": [
       "target\n",
       "COPD              4332\n",
       "Healthy            235\n",
       "URTI               213\n",
       "Pneumonia          177\n",
       "Bronchiolitis       89\n",
       "Bronchiectasis      88\n",
       "Name: count, dtype: int64"
      ]
     },
     "execution_count": 11,
     "metadata": {},
     "output_type": "execute_result"
    }
   ],
   "source": [
    "complete_data_train[\"target\"].value_counts()"
   ]
  },
  {
   "cell_type": "code",
   "execution_count": 12,
   "id": "692874b2-2f53-44d9-ba44-41a012f0e664",
   "metadata": {},
   "outputs": [
    {
     "data": {
      "text/plain": [
       "target\n",
       "COPD              1414\n",
       "Pneumonia          108\n",
       "Healthy             87\n",
       "Bronchiolitis       71\n",
       "URTI                30\n",
       "Bronchiectasis      16\n",
       "Name: count, dtype: int64"
      ]
     },
     "execution_count": 12,
     "metadata": {},
     "output_type": "execute_result"
    }
   ],
   "source": [
    "complete_data_test[\"target\"].value_counts()"
   ]
  },
  {
   "cell_type": "code",
   "execution_count": 13,
   "id": "defa4384-48b8-4ac9-abd0-4261819a9fc6",
   "metadata": {},
   "outputs": [],
   "source": [
    "assert sorted(list(complete_data_train[\"target\"].unique())) == sorted(list(complete_data_test[\"target\"].unique())), \"Difference in targets detected for train and test set\""
   ]
  },
  {
   "cell_type": "code",
   "execution_count": 14,
   "id": "6aa6441c-7904-4845-b9cd-0a21c20dca46",
   "metadata": {},
   "outputs": [
    {
     "data": {
      "text/plain": [
       "<Axes: ylabel='Density'>"
      ]
     },
     "execution_count": 14,
     "metadata": {},
     "output_type": "execute_result"
    },
    {
     "data": {
      "image/png": "[encoded data removed]",
      "text/plain": [
       "<Figure size 640x480 with 1 Axes>"
      ]
     },
     "metadata": {},
     "output_type": "display_data"
    }
   ],
   "source": [
    "complete_data_train[\"start\"]=complete_data_train[\"start\"].astype(float)\n",
    "complete_data_train[\"end\"]=complete_data_train[\"end\"].astype(float)\n",
    "complete_data_train[\"length\"]=complete_data_train[\"end\"]-complete_data_train[\"start\"]\n",
    "\n",
    "complete_data_test[\"start\"]=complete_data_test[\"start\"].astype(float)\n",
    "complete_data_test[\"end\"]=complete_data_test[\"end\"].astype(float)\n",
    "complete_data_test[\"length\"]=complete_data_test[\"end\"]-complete_data_test[\"start\"]\n",
    "\n",
    "sb.kdeplot(complete_data_train[\"length\"].values)"
   ]
  },
  {
   "cell_type": "markdown",
   "id": "9a723634-9e3c-48f9-aada-adf78233b195",
   "metadata": {},
   "source": [
    "### We'll make the constant length as 7.5s\n",
    "\n",
    "Anything less than this we'll pad with zeros\n",
    "Anything more than this we'll trim"
   ]
  },
  {
   "cell_type": "code",
   "execution_count": 15,
   "id": "df6c2166-f144-4b9c-b641-043df9915111",
   "metadata": {},
   "outputs": [
    {
     "data": {
      "text/html": [
       "<div>\n",
       "<style scoped>\n",
       "    .dataframe tbody tr th:only-of-type {\n",
       "        vertical-align: middle;\n",
       "    }\n",
       "\n",
       "    .dataframe tbody tr th {\n",
       "        vertical-align: top;\n",
       "    }\n",
       "\n",
       "    .dataframe thead th {\n",
       "        text-align: right;\n",
       "    }\n",
       "</style>\n",
       "<table border=\"1\" class=\"dataframe\">\n",
       "  <thead>\n",
       "    <tr style=\"text-align: right;\">\n",
       "      <th></th>\n",
       "      <th>audio_path</th>\n",
       "      <th>start</th>\n",
       "      <th>end</th>\n",
       "      <th>crackles</th>\n",
       "      <th>weezels</th>\n",
       "      <th>target</th>\n",
       "      <th>length</th>\n",
       "    </tr>\n",
       "  </thead>\n",
       "  <tbody>\n",
       "    <tr>\n",
       "      <th>0</th>\n",
       "      <td>../Sound_Classification/archive/respiratory_sound_database/Respiratory_Sound_Database/audio_and_txt_files/177_1b4_Ar_mc_AKGC417L.wav</td>\n",
       "      <td>0.359</td>\n",
       "      <td>3.364</td>\n",
       "      <td>0.0</td>\n",
       "      <td>0.0</td>\n",
       "      <td>COPD</td>\n",
       "      <td>3.005</td>\n",
       "    </tr>\n",
       "    <tr>\n",
       "      <th>1</th>\n",
       "      <td>../Sound_Classification/archive/respiratory_sound_database/Respiratory_Sound_Database/audio_and_txt_files/177_1b4_Ar_mc_AKGC417L.wav</td>\n",
       "      <td>3.364</td>\n",
       "      <td>7.888</td>\n",
       "      <td>0.0</td>\n",
       "      <td>0.0</td>\n",
       "      <td>COPD</td>\n",
       "      <td>4.524</td>\n",
       "    </tr>\n",
       "    <tr>\n",
       "      <th>2</th>\n",
       "      <td>../Sound_Classification/archive/respiratory_sound_database/Respiratory_Sound_Database/audio_and_txt_files/177_1b4_Ar_mc_AKGC417L.wav</td>\n",
       "      <td>7.888</td>\n",
       "      <td>11.043</td>\n",
       "      <td>0.0</td>\n",
       "      <td>0.0</td>\n",
       "      <td>COPD</td>\n",
       "      <td>3.155</td>\n",
       "    </tr>\n",
       "    <tr>\n",
       "      <th>3</th>\n",
       "      <td>../Sound_Classification/archive/respiratory_sound_database/Respiratory_Sound_Database/audio_and_txt_files/177_1b4_Ar_mc_AKGC417L.wav</td>\n",
       "      <td>11.043</td>\n",
       "      <td>14.583</td>\n",
       "      <td>0.0</td>\n",
       "      <td>0.0</td>\n",
       "      <td>COPD</td>\n",
       "      <td>3.540</td>\n",
       "    </tr>\n",
       "    <tr>\n",
       "      <th>4</th>\n",
       "      <td>../Sound_Classification/archive/respiratory_sound_database/Respiratory_Sound_Database/audio_and_txt_files/177_1b4_Ar_mc_AKGC417L.wav</td>\n",
       "      <td>14.583</td>\n",
       "      <td>18.740</td>\n",
       "      <td>0.0</td>\n",
       "      <td>0.0</td>\n",
       "      <td>COPD</td>\n",
       "      <td>4.157</td>\n",
       "    </tr>\n",
       "  </tbody>\n",
       "</table>\n",
       "</div>"
      ],
      "text/plain": [
       "                                                                                                                             audio_path  \\\n",
       "0  ../Sound_Classification/archive/respiratory_sound_database/Respiratory_Sound_Database/audio_and_txt_files/177_1b4_Ar_mc_AKGC417L.wav   \n",
       "1  ../Sound_Classification/archive/respiratory_sound_database/Respiratory_Sound_Database/audio_and_txt_files/177_1b4_Ar_mc_AKGC417L.wav   \n",
       "2  ../Sound_Classification/archive/respiratory_sound_database/Respiratory_Sound_Database/audio_and_txt_files/177_1b4_Ar_mc_AKGC417L.wav   \n",
       "3  ../Sound_Classification/archive/respiratory_sound_database/Respiratory_Sound_Database/audio_and_txt_files/177_1b4_Ar_mc_AKGC417L.wav   \n",
       "4  ../Sound_Classification/archive/respiratory_sound_database/Respiratory_Sound_Database/audio_and_txt_files/177_1b4_Ar_mc_AKGC417L.wav   \n",
       "\n",
       "    start     end crackles weezels target  length  \n",
       "0   0.359   3.364      0.0     0.0   COPD   3.005  \n",
       "1   3.364   7.888      0.0     0.0   COPD   4.524  \n",
       "2   7.888  11.043      0.0     0.0   COPD   3.155  \n",
       "3  11.043  14.583      0.0     0.0   COPD   3.540  \n",
       "4  14.583  18.740      0.0     0.0   COPD   4.157  "
      ]
     },
     "execution_count": 15,
     "metadata": {},
     "output_type": "execute_result"
    }
   ],
   "source": [
    "complete_data_train.head(5)"
   ]
  },
  {
   "cell_type": "code",
   "execution_count": 16,
   "id": "46ce52ed-d007-4038-8f60-14738de726a5",
   "metadata": {},
   "outputs": [
    {
     "data": {
      "text/plain": [
       "5134"
      ]
     },
     "execution_count": 16,
     "metadata": {},
     "output_type": "execute_result"
    }
   ],
   "source": [
    "len(complete_data_train)"
   ]
  },
  {
   "cell_type": "code",
   "execution_count": 17,
   "id": "0af42556-c689-4bc8-bcca-657e9fce9759",
   "metadata": {},
   "outputs": [
    {
     "data": {
      "text/plain": [
       "1726"
      ]
     },
     "execution_count": 17,
     "metadata": {},
     "output_type": "execute_result"
    }
   ],
   "source": [
    "len(complete_data_test)"
   ]
  },
  {
   "cell_type": "code",
   "execution_count": 18,
   "id": "ff6c13e9-b966-4267-b93c-5b2b2a49e325",
   "metadata": {},
   "outputs": [],
   "source": [
    "def transformed_audio(audio_path: str,start: int,end: int) -> None:\n",
    "    wv, sr = librosa.load(audio_path)\n",
    "    '''\n",
    "    \n",
    "    sampling rate = no. of samples/time\n",
    "    \n",
    "    '''\n",
    "    starting_point=int(max(sr*start,0))\n",
    "    ending_point=int(min(sr*end,len(wv)))\n",
    "\n",
    "    return wv[starting_point:ending_point],sr"
   ]
  },
  {
   "cell_type": "code",
   "execution_count": 19,
   "id": "2e2a1008-f51d-4a41-b396-43d3f63e3244",
   "metadata": {
    "scrolled": true
   },
   "outputs": [
    {
     "name": "stdout",
     "output_type": "stream",
     "text": [
      "Train folder created\n",
      "Total Files Processed:  5134\n",
      "\n",
      "CSV File Saved\n",
      "\n",
      "Test folder created\n",
      "Total Files Processed:  1726\n",
      "\n",
      "CSV File Saved\n",
      "\n"
     ]
    }
   ],
   "source": [
    "def transform_and_save(complete_filtered_data: pd.DataFrame(),path: str,type: str):\n",
    "    c=0\n",
    "    files_saved=[]\n",
    "    files=[]\n",
    "    sr_coll=[]\n",
    "    samples_coll=[]\n",
    "    i=0\n",
    "    \n",
    "    for index,row in complete_filtered_data.iterrows():\n",
    "        maxLen=7.5\n",
    "        start=row['start']\n",
    "        end=row['end']\n",
    "        audio_file_loc=row['audio_path']\n",
    "    \n",
    "        filename=audio_file_loc.split(\"/\")[-1].split(\".\")[0]\n",
    "        \n",
    "        #If len > maxLen , change it to maxLen\n",
    "        if end-start>maxLen:\n",
    "            end=start+maxLen\n",
    "        \n",
    "        if index > 0:\n",
    "            #check if more cycles exits for same patient if so then add i to change filename\n",
    "            if complete_filtered_data.iloc[index-1]['audio_path'].split(\"/\")[-1].split(\".\")[0]==filename:\n",
    "                i+=1\n",
    "            else:\n",
    "                i=0\n",
    "        filename= filename + '_' + str(i) + '.wav'\n",
    "        \n",
    "        save_path=path + filename\n",
    "        c+=1\n",
    "        \n",
    "        pureSample, sr=transformed_audio(audio_file_loc,start,end)\n",
    "    \n",
    "        \n",
    "        reqLen=7.5*sr\n",
    "        data = librosa.util.pad_center(data=pureSample,size=reqLen)\n",
    "    \n",
    "        \n",
    "        sf.write(file=save_path,data=data,samplerate=sr)\n",
    "        files.append(filename)\n",
    "        files_saved.append(save_path)\n",
    "        sr_coll.append(sr)\n",
    "        samples_coll.append(len(pureSample))\n",
    "        #break\n",
    "    print('Total Files Processed: ',c)\n",
    "\n",
    "    complete_filtered_data[\"samples\"]=samples_coll\n",
    "    complete_filtered_data[\"sample rates\"]=sr_coll\n",
    "    complete_filtered_data[\"filename\"]=files\n",
    "    complete_filtered_data[\"file_save_path\"]=files_saved\n",
    "\n",
    "    complete_filtered_data.to_csv(\"../Sound_Classification/archive/processed_data_\"+type+\".csv\",index=None)\n",
    "    print(f\"\\nCSV File Saved\\n\")\n",
    "    \n",
    "if(not os.path.exists(\"../Sound_Classification/archive/processed_data_train/\")):\n",
    "    os.mkdir(\"../Sound_Classification/archive/processed_data_train/\")\n",
    "    print(\"Train folder created\")\n",
    "\n",
    "transform_and_save(complete_data_train,\"../Sound_Classification/archive/processed_data_train/\",\"train\")\n",
    "\n",
    "if(not os.path.exists(\"../Sound_Classification/archive/processed_data_test/\")):\n",
    "    os.mkdir(\"../Sound_Classification/archive/processed_data_test/\")\n",
    "    print(\"Test folder created\")\n",
    "\n",
    "transform_and_save(complete_data_test,\"../Sound_Classification/archive/processed_data_test/\",\"test\")"
   ]
  }
 ],
 "metadata": {
  "kernelspec": {
   "display_name": "Python 3 (ipykernel)",
   "language": "python",
   "name": "python3"
  },
  "language_info": {
   "codemirror_mode": {
    "name": "ipython",
    "version": 3
   },
   "file_extension": ".py",
   "mimetype": "text/x-python",
   "name": "python",
   "nbconvert_exporter": "python",
   "pygments_lexer": "ipython3",
   "version": "3.11.5"
  }
 },
 "nbformat": 4,
 "nbformat_minor": 5
}
