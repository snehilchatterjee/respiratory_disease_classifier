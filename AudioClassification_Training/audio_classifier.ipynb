{
 "cells": [
  {
   "cell_type": "markdown",
   "id": "0f12a315-5e97-4026-a985-0d1c9fca9971",
   "metadata": {},
   "source": [
    "### Importing all libraries"
   ]
  },
  {
   "cell_type": "code",
   "execution_count": 6,
   "id": "c861209b-b406-4ceb-88f0-c4cda64deae6",
   "metadata": {},
   "outputs": [
    {
     "name": "stdout",
     "output_type": "stream",
     "text": [
      "Using cuda\n"
     ]
    }
   ],
   "source": [
    "#Importing audio file paths\n",
    "import os\n",
    "\n",
    "#For managing dataframe\n",
    "import pandas as pd\n",
    "import numpy as np\n",
    "\n",
    "#PyTorch\n",
    "import torchaudio\n",
    "import torch\n",
    "from torch.utils.data import Dataset\n",
    "\n",
    "# Misc.\n",
    "import multiprocessing # will be used for loading data using multipler workers (cpu_count)\n",
    "\n",
    "#Selecting device\n",
    "device=\"cuda\" if torch.cuda.is_available() else \"cpu\"\n",
    "\n",
    "print(f\"Using {device}\")"
   ]
  },
  {
   "cell_type": "markdown",
   "id": "856e9933-d394-4654-b4a6-c282b59dd9e5",
   "metadata": {},
   "source": [
    "### Recursively get all audio files"
   ]
  },
  {
   "cell_type": "code",
   "execution_count": 2,
   "id": "9f6a0daf-3d9d-4e91-ad47-f0e65286bf28",
   "metadata": {},
   "outputs": [],
   "source": [
    "def audio_fetch(src,audio_paths):\n",
    "    l=os.listdir(src)\n",
    "    if(len(l)!=0):\n",
    "        for i in range(len(l)):\n",
    "            if(\".wav\" in l[i] or \".mp3\" in l[i] or \".aac\" in l[i]):\n",
    "                audio_paths.append(str(src+l[i]))\n",
    "            elif(\".\" not in l[i]):\n",
    "                try:\n",
    "                    audio_fetch(str(src+\"/\"+l[i]+\"/\"),audio_paths)\n",
    "                except:\n",
    "                    continue\n",
    "                            \n",
    "# For getting all possible classes along with their label encoding as a dictionary\n",
    "def class_fetch(df: pd.DataFrame())->(list,dict):\n",
    "    s=set(sorted(df[1].unique()))\n",
    "    \n",
    "    toDel=[i for i in dict(df[1].value_counts(sort=True)).keys() if dict(df[1].value_counts(sort=True))[i]<3]\n",
    "    for i in toDel:\n",
    "        s.remove(i)\n",
    "    d={}\n",
    "    \n",
    "    toDel_ids=[]\n",
    "    for i in toDel:\n",
    "        toDel_ids.extend(list(df[df[1]==i][0].values))\n",
    "    \n",
    "    \n",
    "    count=0\n",
    "    for i in s:\n",
    "        d[i]=count\n",
    "        count+=1\n",
    "    return list(s),d, toDel_ids"
   ]
  },
  {
   "cell_type": "markdown",
   "id": "9f2801d1-6044-40a8-aefa-74ab85dee3af",
   "metadata": {},
   "source": [
    "### Dataset Class"
   ]
  },
  {
   "cell_type": "code",
   "execution_count": 3,
   "id": "e3c73728-c4cd-43b5-9208-2d3b649319f2",
   "metadata": {},
   "outputs": [],
   "source": [
    "class audio_dataset(Dataset):\n",
    "    def __init__(self,\n",
    "                 audio_path: str,\n",
    "                 info: str, \n",
    "                 target_sample_rate=44000,\n",
    "                 num_samples=800000,\n",
    "                 transformations=None, \n",
    "                 header=None) -> None:\n",
    "        \n",
    "        self.paths=[]\n",
    "        audio_fetch(audio_path,self.paths)\n",
    "        self.target_sample_rate=target_sample_rate\n",
    "        self.transformations=transformations\n",
    "        self.target_samples=num_samples\n",
    "        \n",
    "        self.patient=dict()\n",
    "        self.paths.sort() \n",
    "        \n",
    "        # We are going to remove all classes than 2 patient data\n",
    "\n",
    "        for i in range(101,227):\n",
    "            self.patient[i]=[]\n",
    "        \n",
    "        for i in range(len(self.paths)):\n",
    "            self.patient[int(self.paths[i].split(\"/\")[-1].split(\"_\")[0])].append(self.paths[i])\n",
    "        \n",
    "        self.info_df=pd.read_csv(info,header=header)\n",
    "        self.classes, self.class_to_idx, self.ids_to_remove = class_fetch(self.info_df)\n",
    "\n",
    "        # After getting the patient ids to remove all the data from patient list is removed\n",
    "        for i in self.ids_to_remove:\n",
    "            self.patient.pop(i)\n",
    "\n",
    "        #Denotes sequence of audio files for a particular patient\n",
    "        self.sequence=list(self.patient.values())\n",
    "\n",
    "\n",
    "        # Audio path is updated after removing classing with small number of patients\n",
    "        self.audio_path=[]\n",
    "        for i in self.sequence:\n",
    "            for j in i:\n",
    "                self.audio_path.append(j)\n",
    "\n",
    "    \n",
    "    def get_class(self,file: str):\n",
    "        return self.info_df[self.info_df[0]==int(file.split(\"/\")[-1].split(\"_\")[0])][1].values[0]\n",
    "\n",
    "\n",
    "\n",
    "    # Necessary audio transformations: \n",
    "    def _cut_if_necessary(self, signal):\n",
    "        if signal.shape[1] > self.target_samples:\n",
    "            signal = signal[:, :self.target_samples]\n",
    "        return signal\n",
    "\n",
    "    def _right_pad_if_necessary(self, signal):\n",
    "        length_signal = signal.shape[1]\n",
    "        if length_signal < self.target_samples:\n",
    "            num_missing_samples = self.target_samples - length_signal\n",
    "            last_dim_padding = (0, num_missing_samples)\n",
    "            signal = torch.nn.functional.pad(signal, last_dim_padding)\n",
    "        return signal\n",
    "\n",
    "    def _resample_if_necessary(self, signal, sr):\n",
    "        if sr != self.target_sample_rate:\n",
    "            resampler = torchaudio.transforms.Resample(sr, self.target_sample_rate)\n",
    "            signal = resampler(signal)\n",
    "        return signal\n",
    "\n",
    "    def _mix_down_if_necessary(self, signal):\n",
    "        if signal.shape[0] > 1:\n",
    "            signal = torch.mean(signal, dim=0, keepdim=True)\n",
    "        return signal\n",
    "\n",
    "    \n",
    "    def __len__(self) -> int:\n",
    "        return len(self.paths)\n",
    "\n",
    "\n",
    "    def __getitem__(self, index: int) -> torch.Tensor():\n",
    "        self.val=self.paths[index]\n",
    "        self.class_val=self.class_to_idx[self.get_class(self.val)]\n",
    "\n",
    "        self.signal, self.sr = torchaudio.load(self.val)\n",
    "        self.signal = self._resample_if_necessary(self.signal, self.sr)\n",
    "        self.signal = self._mix_down_if_necessary(self.signal)\n",
    "        self.signal = self._cut_if_necessary(self.signal)\n",
    "        self.signal = self._right_pad_if_necessary(self.signal)\n",
    "        self.signal = self.transformation(self.signal)\n",
    "        \n",
    "        return self.signal,self.class_to_idx[self.class_val]"
   ]
  },
  {
   "cell_type": "markdown",
   "id": "74d69c53-099d-4872-8995-1a22f40b5ffb",
   "metadata": {},
   "source": [
    "##### Testing audio dataset"
   ]
  },
  {
   "cell_type": "code",
   "execution_count": 4,
   "id": "1ee9fbf4-8673-444f-bf7d-37167d40138a",
   "metadata": {},
   "outputs": [
    {
     "data": {
      "text/plain": [
       "{'Pneumonia': 0,\n",
       " 'COPD': 1,\n",
       " 'Bronchiolitis': 2,\n",
       " 'Bronchiectasis': 3,\n",
       " 'Healthy': 4,\n",
       " 'URTI': 5}"
      ]
     },
     "execution_count": 4,
     "metadata": {},
     "output_type": "execute_result"
    }
   ],
   "source": [
    "ds=audio_dataset(audio_path=\"../Sound_Classification/archive/Respiratory_Sound_Database/\",info=\"../Sound_Classification/archive/respiratory_sound_database/Respiratory_Sound_Database/patient_diagnosis.csv\")\n",
    "ds.class_to_idx"
   ]
  },
  {
   "cell_type": "code",
   "execution_count": 5,
   "id": "9d59361e-6d17-4230-9894-30e277295574",
   "metadata": {},
   "outputs": [
    {
     "name": "stdout",
     "output_type": "stream",
     "text": [
      "123\n",
      "COPD\n"
     ]
    }
   ],
   "source": [
    "print(len(ds.sequence))\n",
    "print(ds.get_class(ds.audio_path[3]))"
   ]
  },
  {
   "cell_type": "markdown",
   "id": "65ad11d1-6b4a-47ed-a2b9-966513802e32",
   "metadata": {},
   "source": [
    "### Dataloader"
   ]
  },
  {
   "cell_type": "code",
   "execution_count": null,
   "id": "0ffe44aa-4c99-48f3-b5be-7c4aebdefaa6",
   "metadata": {},
   "outputs": [],
   "source": [
    "num_workers=multiprocessing.cpu_count()"
   ]
  }
 ],
 "metadata": {
  "kernelspec": {
   "display_name": "Python 3 (ipykernel)",
   "language": "python",
   "name": "python3"
  },
  "language_info": {
   "codemirror_mode": {
    "name": "ipython",
    "version": 3
   },
   "file_extension": ".py",
   "mimetype": "text/x-python",
   "name": "python",
   "nbconvert_exporter": "python",
   "pygments_lexer": "ipython3",
   "version": "3.11.5"
  }
 },
 "nbformat": 4,
 "nbformat_minor": 5
}
