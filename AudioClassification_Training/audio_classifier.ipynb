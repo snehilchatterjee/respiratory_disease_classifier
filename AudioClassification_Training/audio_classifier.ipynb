{
 "cells": [
  {
   "cell_type": "markdown",
   "id": "0f12a315-5e97-4026-a985-0d1c9fca9971",
   "metadata": {},
   "source": [
    "### Importing all libraries"
   ]
  },
  {
   "cell_type": "code",
   "execution_count": 49,
   "id": "c861209b-b406-4ceb-88f0-c4cda64deae6",
   "metadata": {},
   "outputs": [
    {
     "name": "stdout",
     "output_type": "stream",
     "text": [
      "Using cuda\n"
     ]
    }
   ],
   "source": [
    "#Importing audio file paths\n",
    "import os\n",
    "\n",
    "#For managing dataframe\n",
    "import pandas as pd\n",
    "import numpy as np\n",
    "\n",
    "#PyTorch\n",
    "import torchaudio\n",
    "import torch\n",
    "from torch.utils.data import Dataset\n",
    "from torch import nn\n",
    "\n",
    "# Misc.\n",
    "import multiprocessing # will be used for loading data using multipler workers (cpu_count)\n",
    "import librosa\n",
    "from sklearn.model_selection import train_test_split\n",
    "\n",
    "#Selecting device\n",
    "device=\"cuda\" if torch.cuda.is_available() else \"cpu\"\n",
    "\n",
    "print(f\"Using {device}\")"
   ]
  },
  {
   "cell_type": "markdown",
   "id": "856e9933-d394-4654-b4a6-c282b59dd9e5",
   "metadata": {},
   "source": [
    "### Recursively get all audio files"
   ]
  },
  {
   "cell_type": "code",
   "execution_count": 2,
   "id": "9f6a0daf-3d9d-4e91-ad47-f0e65286bf28",
   "metadata": {},
   "outputs": [],
   "source": [
    "def audio_fetch(src,audio_paths):\n",
    "    l=os.listdir(src)\n",
    "    if(len(l)!=0):\n",
    "        for i in range(len(l)):\n",
    "            if(\".wav\" in l[i] or \".mp3\" in l[i] or \".aac\" in l[i]):\n",
    "                audio_paths.append(str(src+l[i]))\n",
    "            elif(\".\" not in l[i]):\n",
    "                try:\n",
    "                    audio_fetch(str(src+\"/\"+l[i]+\"/\"),audio_paths)\n",
    "                except:\n",
    "                    continue\n",
    "                            \n",
    "# For getting all possible classes along with their label encoding as a dictionary\n",
    "def class_fetch(df: pd.DataFrame())->(list,dict):\n",
    "    s=set(sorted(df[1].unique()))\n",
    "    \n",
    "    toDel=[i for i in dict(df[1].value_counts(sort=True)).keys() if dict(df[1].value_counts(sort=True))[i]<3]\n",
    "    for i in toDel:\n",
    "        s.remove(i)\n",
    "    d={}\n",
    "    \n",
    "    toDel_ids=[]\n",
    "    for i in toDel:\n",
    "        toDel_ids.extend(list(df[df[1]==i][0].values))\n",
    "    \n",
    "    \n",
    "    count=0\n",
    "    for i in s:\n",
    "        d[i]=count\n",
    "        count+=1\n",
    "    return list(s),d, toDel_ids"
   ]
  },
  {
   "cell_type": "markdown",
   "id": "9f2801d1-6044-40a8-aefa-74ab85dee3af",
   "metadata": {},
   "source": [
    "### Dataset Class"
   ]
  },
  {
   "cell_type": "code",
   "execution_count": 52,
   "id": "e3c73728-c4cd-43b5-9208-2d3b649319f2",
   "metadata": {},
   "outputs": [],
   "source": [
    "class audio_dataset(Dataset):\n",
    "    def __init__(self,\n",
    "                 info: str,\n",
    "                 audio_path=None,\n",
    "                 audio_files=None,\n",
    "                 target_sample_rate=16000,\n",
    "                 num_samples=320000,\n",
    "                 transforms=None,\n",
    "                 header=None) -> None:\n",
    "        \n",
    "        self.paths=[]\n",
    "\n",
    "        if (audio_path==None and audio_files==None):\n",
    "            raise Exception(\"Both audio_path and audio_files cannot be None at the same time\")\n",
    "\n",
    "        if(audio_files==None):\n",
    "            audio_fetch(audio_path,self.paths)\n",
    "        else:\n",
    "            self.paths=audio_files\n",
    "\n",
    "        self.transformation=transforms\n",
    "        self.target_sample_rate=target_sample_rate\n",
    "        self.target_samples=num_samples\n",
    "        \n",
    "        self.patient=dict()\n",
    "        self.paths.sort() \n",
    "        \n",
    "        # We are going to remove all classes than 2 patient data\n",
    "\n",
    "        for i in self.paths:\n",
    "            index=int(i.split(\"/\")[-1].split(\"_\")[0])\n",
    "            self.patient[index]=[]\n",
    "        \n",
    "        for i in range(len(self.paths)):\n",
    "            self.patient[int(self.paths[i].split(\"/\")[-1].split(\"_\")[0])].append(self.paths[i])\n",
    "        \n",
    "        self.info_df=pd.read_csv(info,header=header)\n",
    "        self.classes, self.class_to_idx, self.ids_to_remove = class_fetch(self.info_df)\n",
    "\n",
    "        # After getting the patient ids to remove all the data from patient list is removed\n",
    "        for i in self.ids_to_remove:\n",
    "            if i in self.patient.keys():\n",
    "                self.patient.pop(i)\n",
    "\n",
    "        #Denotes sequence of audio files for a particular patient\n",
    "        self.sequence=list(self.patient.values())\n",
    "\n",
    "        # Audio path is updated after removing classing with small number of patients\n",
    "        self.paths=[]\n",
    "        for i in self.sequence:\n",
    "            if(i!=[]):\n",
    "                for j in i:\n",
    "                    self.paths.append(j)\n",
    "\n",
    "    \n",
    "    def get_class(self,file: str):\n",
    "        return self.info_df[self.info_df[0]==int(file.split(\"/\")[-1].split(\"_\")[0])][1].values[0]\n",
    "\n",
    "\n",
    "    # Necessary audio transformations: \n",
    "    def _cut_if_necessary(self, signal):\n",
    "        if signal.shape[1] > self.target_samples:\n",
    "            signal = signal[:, :self.target_samples]\n",
    "        return signal\n",
    "\n",
    "    def _right_pad_if_necessary(self, signal):\n",
    "        length_signal = signal.shape[1]\n",
    "        if length_signal < self.target_samples:\n",
    "            num_missing_samples = self.target_samples - length_signal\n",
    "            last_dim_padding = (0, num_missing_samples)\n",
    "            signal = torch.nn.functional.pad(signal, last_dim_padding)\n",
    "        return signal\n",
    "\n",
    "    def _resample_if_necessary(self, signal, sr):\n",
    "        if sr != self.target_sample_rate:\n",
    "            resampler = torchaudio.transforms.Resample(sr, self.target_sample_rate)\n",
    "            signal = resampler(signal)\n",
    "        return signal\n",
    "\n",
    "    def _mix_down_if_necessary(self, signal):\n",
    "        if signal.shape[0] > 1:\n",
    "            signal = torch.mean(signal, dim=0, keepdim=True)\n",
    "        return signal\n",
    "\n",
    "    \n",
    "    def __len__(self) -> int:\n",
    "        return len(self.paths)\n",
    "\n",
    "\n",
    "    def __getitem__(self, index: int) -> torch.Tensor():\n",
    "        self.val=self.paths[index]\n",
    "        self.class_val=self.class_to_idx[self.get_class(self.val)]\n",
    "\n",
    "        self.signal, self.sr = torchaudio.load(self.val)\n",
    "        self.signal = self._resample_if_necessary(self.signal, self.sr)\n",
    "        self.signal = self._mix_down_if_necessary(self.signal)\n",
    "        self.signal = self._cut_if_necessary(self.signal)\n",
    "        self.signal = self._right_pad_if_necessary(self.signal)\n",
    "        if(self.transformation!=None):\n",
    "            self.signal = self.transformation(self.signal)\n",
    "\n",
    "        return self.signal,self.class_val"
   ]
  },
  {
   "cell_type": "markdown",
   "id": "74d69c53-099d-4872-8995-1a22f40b5ffb",
   "metadata": {},
   "source": [
    "##### Testing audio dataset"
   ]
  },
  {
   "cell_type": "code",
   "execution_count": 53,
   "id": "1ee9fbf4-8673-444f-bf7d-37167d40138a",
   "metadata": {},
   "outputs": [
    {
     "data": {
      "text/plain": [
       "{'Pneumonia': 0,\n",
       " 'URTI': 1,\n",
       " 'Healthy': 2,\n",
       " 'Bronchiectasis': 3,\n",
       " 'Bronchiolitis': 4,\n",
       " 'COPD': 5}"
      ]
     },
     "execution_count": 53,
     "metadata": {},
     "output_type": "execute_result"
    }
   ],
   "source": [
    "mel_spectrogram = torchaudio.transforms.MelSpectrogram(\n",
    "        sample_rate=16000,\n",
    "        n_fft=1024,\n",
    "        hop_length=512,\n",
    "        n_mels=64\n",
    "    )\n",
    "\n",
    "ds=audio_dataset(audio_path=\"../Sound_Classification/archive/Respiratory_Sound_Database/\",info=\"../Sound_Classification/archive/respiratory_sound_database/Respiratory_Sound_Database/patient_diagnosis.csv\",transforms=mel_spectrogram)\n",
    "ds.class_to_idx"
   ]
  },
  {
   "cell_type": "code",
   "execution_count": 54,
   "id": "9d59361e-6d17-4230-9894-30e277295574",
   "metadata": {},
   "outputs": [
    {
     "name": "stdout",
     "output_type": "stream",
     "text": [
      "123\n",
      "COPD\n"
     ]
    }
   ],
   "source": [
    "print(len(ds.sequence))\n",
    "print(ds.get_class(ds.paths[3]))"
   ]
  },
  {
   "cell_type": "markdown",
   "id": "65ad11d1-6b4a-47ed-a2b9-966513802e32",
   "metadata": {},
   "source": [
    "### Dataloader"
   ]
  },
  {
   "cell_type": "code",
   "execution_count": 55,
   "id": "0ffe44aa-4c99-48f3-b5be-7c4aebdefaa6",
   "metadata": {},
   "outputs": [
    {
     "name": "stdout",
     "output_type": "stream",
     "text": [
      "Before trimming:\n",
      "No. of audio files in train_ds: 552\n",
      "No. of audio files in test_ds: 184\n",
      "No. of audio files in val_ds: 184\n",
      "\n",
      "After trimming:\n",
      "No. of audio files in train_ds: 550\n",
      "No. of audio files in test_ds: 184\n",
      "No. of audio files in val_ds: 183\n"
     ]
    }
   ],
   "source": [
    "BATCH_SIZE=4\n",
    "NUM_WORKERS=multiprocessing.cpu_count()\n",
    "\n",
    "ds=[]\n",
    "audio_fetch(\"../Sound_Classification/archive/respiratory_sound_database/\",ds)\n",
    "\n",
    "# Perform train test split\n",
    "train_ds,temp_ds=train_test_split(ds,test_size=0.4)\n",
    "test_ds,val_ds=train_test_split(temp_ds,test_size=0.5)\n",
    "\n",
    "print(f\"Before trimming:\")\n",
    "print(f\"No. of audio files in train_ds: {len(train_ds)}\\nNo. of audio files in test_ds: {len(test_ds)}\\nNo. of audio files in val_ds: {len(val_ds)}\")\n",
    "\n",
    "train_ds=audio_dataset(audio_files=train_ds,info=\"../Sound_Classification/archive/respiratory_sound_database/Respiratory_Sound_Database/patient_diagnosis.csv\",transforms=mel_spectrogram)\n",
    "test_ds=audio_dataset(audio_files=test_ds,info=\"../Sound_Classification/archive/respiratory_sound_database/Respiratory_Sound_Database/patient_diagnosis.csv\",transforms=mel_spectrogram)\n",
    "val_ds=audio_dataset(audio_files=val_ds,info=\"../Sound_Classification/archive/respiratory_sound_database/Respiratory_Sound_Database/patient_diagnosis.csv\",transforms=mel_spectrogram)\n",
    "\n",
    "print(f\"\\nAfter trimming:\")\n",
    "print(f\"No. of audio files in train_ds: {train_ds.__len__()}\\nNo. of audio files in test_ds: {test_ds.__len__()}\\nNo. of audio files in val_ds: {val_ds.__len__()}\")\n",
    "\n",
    "train_loader=torch.utils.data.DataLoader(train_ds,batch_size=BATCH_SIZE,shuffle=True,num_workers=NUM_WORKERS)\n",
    "test_loader=torch.utils.data.DataLoader(test_ds,batch_size=BATCH_SIZE,shuffle=True,num_workers=NUM_WORKERS)\n",
    "val_loader=torch.utils.data.DataLoader(val_ds,batch_size=BATCH_SIZE,shuffle=True,num_workers=NUM_WORKERS)"
   ]
  },
  {
   "cell_type": "markdown",
   "id": "2057acd7-5e6a-4e88-9759-502addf95d34",
   "metadata": {},
   "source": [
    "##### Checking dataloader"
   ]
  },
  {
   "cell_type": "code",
   "execution_count": 56,
   "id": "4ae0cf7d-392b-4756-a4d9-5ba707bd553e",
   "metadata": {},
   "outputs": [
    {
     "name": "stderr",
     "output_type": "stream",
     "text": [
      "/tmp/ipykernel_23326/3893681720.py:10: UserWarning: Only one segment is calculated since parameter NFFT (=256) >= signal length (=64).\n",
      "  plt.specgram(im)\n"
     ]
    },
    {
     "data": {
      "text/plain": [
       "(array([[4.06605179e+05],\n",
       "        [7.75414521e+05],\n",
       "        [6.71313353e+05],\n",
       "        [5.25484555e+05],\n",
       "        [3.69575247e+05],\n",
       "        [2.32866568e+05],\n",
       "        [1.35097941e+05],\n",
       "        [8.32006248e+04],\n",
       "        [7.18633745e+04],\n",
       "        [8.70442086e+04],\n",
       "        [1.11257776e+05],\n",
       "        [1.29143629e+05],\n",
       "        [1.31606678e+05],\n",
       "        [1.17256485e+05],\n",
       "        [9.10033753e+04],\n",
       "        [6.08401043e+04],\n",
       "        [3.43449042e+04],\n",
       "        [1.61707321e+04],\n",
       "        [7.13624443e+03],\n",
       "        [4.90705246e+03],\n",
       "        [5.77703247e+03],\n",
       "        [6.73407418e+03],\n",
       "        [6.91622249e+03],\n",
       "        [7.85272442e+03],\n",
       "        [1.24709057e+04],\n",
       "        [2.34301714e+04],\n",
       "        [4.15960240e+04],\n",
       "        [6.52988324e+04],\n",
       "        [9.06074137e+04],\n",
       "        [1.12439046e+05],\n",
       "        [1.26071857e+05],\n",
       "        [1.28541536e+05],\n",
       "        [1.19472818e+05],\n",
       "        [1.01102226e+05],\n",
       "        [7.75375011e+04],\n",
       "        [5.35533001e+04],\n",
       "        [3.33334030e+04],\n",
       "        [1.95222230e+04],\n",
       "        [1.28093188e+04],\n",
       "        [1.21025084e+04],\n",
       "        [1.51726379e+04],\n",
       "        [1.95084895e+04],\n",
       "        [2.30698649e+04],\n",
       "        [2.47120053e+04],\n",
       "        [2.42275683e+04],\n",
       "        [2.21065570e+04],\n",
       "        [1.91780394e+04],\n",
       "        [1.62775430e+04],\n",
       "        [1.40264984e+04],\n",
       "        [1.27478982e+04],\n",
       "        [1.24908510e+04],\n",
       "        [1.31092411e+04],\n",
       "        [1.43425795e+04],\n",
       "        [1.58700359e+04],\n",
       "        [1.73362635e+04],\n",
       "        [1.83726048e+04],\n",
       "        [1.86499579e+04],\n",
       "        [1.79801084e+04],\n",
       "        [1.64279233e+04],\n",
       "        [1.43505030e+04],\n",
       "        [1.22993978e+04],\n",
       "        [1.08100366e+04],\n",
       "        [1.01858492e+04],\n",
       "        [1.03888983e+04],\n",
       "        [1.10776305e+04],\n",
       "        [1.17548203e+04],\n",
       "        [1.19580755e+04],\n",
       "        [1.14325383e+04],\n",
       "        [1.02354257e+04],\n",
       "        [8.72813381e+03],\n",
       "        [7.43718900e+03],\n",
       "        [6.82149304e+03],\n",
       "        [7.04374537e+03],\n",
       "        [7.86437871e+03],\n",
       "        [8.73227256e+03],\n",
       "        [9.05318979e+03],\n",
       "        [8.52158251e+03],\n",
       "        [7.35642923e+03],\n",
       "        [6.31389067e+03],\n",
       "        [6.44446263e+03],\n",
       "        [8.67475910e+03],\n",
       "        [1.33746999e+04],\n",
       "        [2.00878048e+04],\n",
       "        [2.75483870e+04],\n",
       "        [3.40026598e+04],\n",
       "        [3.77318628e+04],\n",
       "        [3.75952198e+04],\n",
       "        [3.34044147e+04],\n",
       "        [2.60084978e+04],\n",
       "        [1.70735852e+04],\n",
       "        [8.63897348e+03],\n",
       "        [2.58749373e+03],\n",
       "        [1.74791007e+02],\n",
       "        [1.73197994e+03],\n",
       "        [6.60793129e+03],\n",
       "        [1.33630796e+04],\n",
       "        [2.01675012e+04],\n",
       "        [2.52960335e+04],\n",
       "        [2.75730733e+04],\n",
       "        [2.66293837e+04],\n",
       "        [2.29028310e+04],\n",
       "        [1.74144109e+04],\n",
       "        [1.14265822e+04],\n",
       "        [6.10703079e+03],\n",
       "        [2.28466885e+03],\n",
       "        [3.31712113e+02],\n",
       "        [1.66151079e+02],\n",
       "        [1.34877647e+03],\n",
       "        [3.23917891e+03],\n",
       "        [5.16994913e+03],\n",
       "        [6.60004405e+03],\n",
       "        [7.21932734e+03],\n",
       "        [6.99205427e+03],\n",
       "        [6.13954507e+03],\n",
       "        [5.06852498e+03],\n",
       "        [4.25627207e+03],\n",
       "        [4.11278970e+03],\n",
       "        [4.85282050e+03],\n",
       "        [6.41753388e+03],\n",
       "        [8.47708319e+03],\n",
       "        [1.05195865e+04],\n",
       "        [1.20002162e+04],\n",
       "        [1.25023397e+04],\n",
       "        [1.18611956e+04],\n",
       "        [1.02165520e+04],\n",
       "        [7.98280939e+03],\n",
       "        [5.74434716e+03],\n",
       "        [4.10015640e+03],\n",
       "        [1.74850861e+03]]),\n",
       " array([0.       , 0.0078125, 0.015625 , 0.0234375, 0.03125  , 0.0390625,\n",
       "        0.046875 , 0.0546875, 0.0625   , 0.0703125, 0.078125 , 0.0859375,\n",
       "        0.09375  , 0.1015625, 0.109375 , 0.1171875, 0.125    , 0.1328125,\n",
       "        0.140625 , 0.1484375, 0.15625  , 0.1640625, 0.171875 , 0.1796875,\n",
       "        0.1875   , 0.1953125, 0.203125 , 0.2109375, 0.21875  , 0.2265625,\n",
       "        0.234375 , 0.2421875, 0.25     , 0.2578125, 0.265625 , 0.2734375,\n",
       "        0.28125  , 0.2890625, 0.296875 , 0.3046875, 0.3125   , 0.3203125,\n",
       "        0.328125 , 0.3359375, 0.34375  , 0.3515625, 0.359375 , 0.3671875,\n",
       "        0.375    , 0.3828125, 0.390625 , 0.3984375, 0.40625  , 0.4140625,\n",
       "        0.421875 , 0.4296875, 0.4375   , 0.4453125, 0.453125 , 0.4609375,\n",
       "        0.46875  , 0.4765625, 0.484375 , 0.4921875, 0.5      , 0.5078125,\n",
       "        0.515625 , 0.5234375, 0.53125  , 0.5390625, 0.546875 , 0.5546875,\n",
       "        0.5625   , 0.5703125, 0.578125 , 0.5859375, 0.59375  , 0.6015625,\n",
       "        0.609375 , 0.6171875, 0.625    , 0.6328125, 0.640625 , 0.6484375,\n",
       "        0.65625  , 0.6640625, 0.671875 , 0.6796875, 0.6875   , 0.6953125,\n",
       "        0.703125 , 0.7109375, 0.71875  , 0.7265625, 0.734375 , 0.7421875,\n",
       "        0.75     , 0.7578125, 0.765625 , 0.7734375, 0.78125  , 0.7890625,\n",
       "        0.796875 , 0.8046875, 0.8125   , 0.8203125, 0.828125 , 0.8359375,\n",
       "        0.84375  , 0.8515625, 0.859375 , 0.8671875, 0.875    , 0.8828125,\n",
       "        0.890625 , 0.8984375, 0.90625  , 0.9140625, 0.921875 , 0.9296875,\n",
       "        0.9375   , 0.9453125, 0.953125 , 0.9609375, 0.96875  , 0.9765625,\n",
       "        0.984375 , 0.9921875, 1.       ]),\n",
       " array([64.]),\n",
       " <matplotlib.image.AxesImage at 0x7f452df0b7d0>)"
      ]
     },
     "execution_count": 56,
     "metadata": {},
     "output_type": "execute_result"
    },
    {
     "data": {
      "image/png": "[encoded data removed]",
      "text/plain": [
       "<Figure size 640x480 with 1 Axes>"
      ]
     },
     "metadata": {},
     "output_type": "display_data"
    }
   ],
   "source": [
    "im=next(iter(train_loader))[0][0]\n",
    "im=im.permute(1,2,0)\n",
    "\n",
    "librosa.display.specshow(librosa.power_to_db(y,ref=np.max),\n",
    "                             y_axis='mel',\n",
    "                             fmax=8000,\n",
    "                             x_axis='time')'''\n",
    "\n",
    "import matplotlib.pyplot as plt\n",
    "plt.specgram(im)"
   ]
  },
  {
   "cell_type": "code",
   "execution_count": 48,
   "id": "22aae5f5-c4d9-44a1-ac3a-36a017ed33dc",
   "metadata": {},
   "outputs": [
    {
     "data": {
      "text/plain": [
       "torch.Size([64, 44, 1])"
      ]
     },
     "execution_count": 48,
     "metadata": {},
     "output_type": "execute_result"
    }
   ],
   "source": [
    "im.shape"
   ]
  },
  {
   "cell_type": "markdown",
   "id": "39b5de65-db6c-4004-a018-7a2a65b43835",
   "metadata": {},
   "source": [
    "### Model"
   ]
  },
  {
   "cell_type": "code",
   "execution_count": 8,
   "id": "3c83bc18-b8f6-41e9-afb9-da5daa7d9ee8",
   "metadata": {},
   "outputs": [],
   "source": [
    "class auditory_transformer(nn.Module):\n",
    "    def __init__(self):\n",
    "        super().__init__()\n",
    "        self.input_embedding=nn.Sequential(nn.BatchNorm1d(num_features=1),\n",
    "                                           nn.Conv1d(in_channels=1,out_channels=128,kernel_size=3),\n",
    "                                           nn.ReLU(),\n",
    "                                           nn.BatchNorm1d(num_features=128),\n",
    "                                           nn.Conv1d(in_channels=128,out_channels=256,kernel_size=3),\n",
    "                                           nn.ReLU(),\n",
    "                                           nn.BatchNorm1d(num_features=256),\n",
    "                                           nn.Conv1d(in_channels=256,out_channels=512,kernel_size=3),\n",
    "                                           nn.ReLU(),\n",
    "                                           nn.BatchNorm1d(num_features=512),\n",
    "                                           nn.Conv1d(in_channels=512,out_channels=1024,kernel_size=3),\n",
    "                                           nn.ReLU(),\n",
    "                                           nn.BatchNorm1d(num_features=1024),\n",
    "                                           nn.Conv1d(in_channels=1024,out_channels=2048,kernel_size=3),\n",
    "                                           nn.ReLU(),\n",
    "                                           nn.BatchNorm1d(num_features=2048),\n",
    "                                           nn.Conv1d(in_channels=2048,out_channels=4096,kernel_size=3))\n",
    "\n",
    "    def forward(self,x):\n",
    "        return self.input_embedding(x)"
   ]
  },
  {
   "cell_type": "code",
   "execution_count": 9,
   "id": "3e84ad23-c948-4730-9e56-55a6825b9bc9",
   "metadata": {},
   "outputs": [
    {
     "data": {
      "text/plain": [
       "torch.Size([4, 1, 80000])"
      ]
     },
     "execution_count": 9,
     "metadata": {},
     "output_type": "execute_result"
    }
   ],
   "source": [
    "next(iter(train_loader))[0].shape"
   ]
  },
  {
   "cell_type": "code",
   "execution_count": 10,
   "id": "c814e529-32c3-4470-b631-8227b0ee741e",
   "metadata": {},
   "outputs": [
    {
     "ename": "OutOfMemoryError",
     "evalue": "CUDA out of memory. Tried to allocate 4.88 GiB. GPU 0 has a total capacty of 5.80 GiB of which 3.07 GiB is free. Including non-PyTorch memory, this process has 2.71 GiB memory in use. Of the allocated memory 2.57 GiB is allocated by PyTorch, and 12.81 MiB is reserved by PyTorch but unallocated. If reserved but unallocated memory is large try setting max_split_size_mb to avoid fragmentation.  See documentation for Memory Management and PYTORCH_CUDA_ALLOC_CONF",
     "output_type": "error",
     "traceback": [
      "\u001b[0;31m---------------------------------------------------------------------------\u001b[0m",
      "\u001b[0;31mOutOfMemoryError\u001b[0m                          Traceback (most recent call last)",
      "Cell \u001b[0;32mIn[10], line 3\u001b[0m\n\u001b[1;32m      1\u001b[0m model\u001b[38;5;241m=\u001b[39mauditory_transformer()\u001b[38;5;241m.\u001b[39mto(device)\n\u001b[1;32m      2\u001b[0m \u001b[38;5;28;01mwith\u001b[39;00m torch\u001b[38;5;241m.\u001b[39minference_mode():\n\u001b[0;32m----> 3\u001b[0m     \u001b[43mmodel\u001b[49m\u001b[43m(\u001b[49m\u001b[43m(\u001b[49m\u001b[38;5;28;43mnext\u001b[39;49m\u001b[43m(\u001b[49m\u001b[38;5;28;43miter\u001b[39;49m\u001b[43m(\u001b[49m\u001b[43mtrain_loader\u001b[49m\u001b[43m)\u001b[49m\u001b[43m)\u001b[49m\u001b[43m[\u001b[49m\u001b[38;5;241;43m0\u001b[39;49m\u001b[43m]\u001b[49m\u001b[43m)\u001b[49m\u001b[38;5;241;43m.\u001b[39;49m\u001b[43mto\u001b[49m\u001b[43m(\u001b[49m\u001b[43mdevice\u001b[49m\u001b[43m)\u001b[49m\u001b[43m)\u001b[49m\u001b[38;5;241m.\u001b[39mshape\n",
      "File \u001b[0;32m~/miniconda3/envs/torch/lib/python3.11/site-packages/torch/nn/modules/module.py:1518\u001b[0m, in \u001b[0;36mModule._wrapped_call_impl\u001b[0;34m(self, *args, **kwargs)\u001b[0m\n\u001b[1;32m   1516\u001b[0m     \u001b[38;5;28;01mreturn\u001b[39;00m \u001b[38;5;28mself\u001b[39m\u001b[38;5;241m.\u001b[39m_compiled_call_impl(\u001b[38;5;241m*\u001b[39margs, \u001b[38;5;241m*\u001b[39m\u001b[38;5;241m*\u001b[39mkwargs)  \u001b[38;5;66;03m# type: ignore[misc]\u001b[39;00m\n\u001b[1;32m   1517\u001b[0m \u001b[38;5;28;01melse\u001b[39;00m:\n\u001b[0;32m-> 1518\u001b[0m     \u001b[38;5;28;01mreturn\u001b[39;00m \u001b[38;5;28;43mself\u001b[39;49m\u001b[38;5;241;43m.\u001b[39;49m\u001b[43m_call_impl\u001b[49m\u001b[43m(\u001b[49m\u001b[38;5;241;43m*\u001b[39;49m\u001b[43margs\u001b[49m\u001b[43m,\u001b[49m\u001b[43m \u001b[49m\u001b[38;5;241;43m*\u001b[39;49m\u001b[38;5;241;43m*\u001b[39;49m\u001b[43mkwargs\u001b[49m\u001b[43m)\u001b[49m\n",
      "File \u001b[0;32m~/miniconda3/envs/torch/lib/python3.11/site-packages/torch/nn/modules/module.py:1527\u001b[0m, in \u001b[0;36mModule._call_impl\u001b[0;34m(self, *args, **kwargs)\u001b[0m\n\u001b[1;32m   1522\u001b[0m \u001b[38;5;66;03m# If we don't have any hooks, we want to skip the rest of the logic in\u001b[39;00m\n\u001b[1;32m   1523\u001b[0m \u001b[38;5;66;03m# this function, and just call forward.\u001b[39;00m\n\u001b[1;32m   1524\u001b[0m \u001b[38;5;28;01mif\u001b[39;00m \u001b[38;5;129;01mnot\u001b[39;00m (\u001b[38;5;28mself\u001b[39m\u001b[38;5;241m.\u001b[39m_backward_hooks \u001b[38;5;129;01mor\u001b[39;00m \u001b[38;5;28mself\u001b[39m\u001b[38;5;241m.\u001b[39m_backward_pre_hooks \u001b[38;5;129;01mor\u001b[39;00m \u001b[38;5;28mself\u001b[39m\u001b[38;5;241m.\u001b[39m_forward_hooks \u001b[38;5;129;01mor\u001b[39;00m \u001b[38;5;28mself\u001b[39m\u001b[38;5;241m.\u001b[39m_forward_pre_hooks\n\u001b[1;32m   1525\u001b[0m         \u001b[38;5;129;01mor\u001b[39;00m _global_backward_pre_hooks \u001b[38;5;129;01mor\u001b[39;00m _global_backward_hooks\n\u001b[1;32m   1526\u001b[0m         \u001b[38;5;129;01mor\u001b[39;00m _global_forward_hooks \u001b[38;5;129;01mor\u001b[39;00m _global_forward_pre_hooks):\n\u001b[0;32m-> 1527\u001b[0m     \u001b[38;5;28;01mreturn\u001b[39;00m \u001b[43mforward_call\u001b[49m\u001b[43m(\u001b[49m\u001b[38;5;241;43m*\u001b[39;49m\u001b[43margs\u001b[49m\u001b[43m,\u001b[49m\u001b[43m \u001b[49m\u001b[38;5;241;43m*\u001b[39;49m\u001b[38;5;241;43m*\u001b[39;49m\u001b[43mkwargs\u001b[49m\u001b[43m)\u001b[49m\n\u001b[1;32m   1529\u001b[0m \u001b[38;5;28;01mtry\u001b[39;00m:\n\u001b[1;32m   1530\u001b[0m     result \u001b[38;5;241m=\u001b[39m \u001b[38;5;28;01mNone\u001b[39;00m\n",
      "Cell \u001b[0;32mIn[8], line 23\u001b[0m, in \u001b[0;36mauditory_transformer.forward\u001b[0;34m(self, x)\u001b[0m\n\u001b[1;32m     22\u001b[0m \u001b[38;5;28;01mdef\u001b[39;00m \u001b[38;5;21mforward\u001b[39m(\u001b[38;5;28mself\u001b[39m,x):\n\u001b[0;32m---> 23\u001b[0m     \u001b[38;5;28;01mreturn\u001b[39;00m \u001b[38;5;28;43mself\u001b[39;49m\u001b[38;5;241;43m.\u001b[39;49m\u001b[43minput_embedding\u001b[49m\u001b[43m(\u001b[49m\u001b[43mx\u001b[49m\u001b[43m)\u001b[49m\n",
      "File \u001b[0;32m~/miniconda3/envs/torch/lib/python3.11/site-packages/torch/nn/modules/module.py:1518\u001b[0m, in \u001b[0;36mModule._wrapped_call_impl\u001b[0;34m(self, *args, **kwargs)\u001b[0m\n\u001b[1;32m   1516\u001b[0m     \u001b[38;5;28;01mreturn\u001b[39;00m \u001b[38;5;28mself\u001b[39m\u001b[38;5;241m.\u001b[39m_compiled_call_impl(\u001b[38;5;241m*\u001b[39margs, \u001b[38;5;241m*\u001b[39m\u001b[38;5;241m*\u001b[39mkwargs)  \u001b[38;5;66;03m# type: ignore[misc]\u001b[39;00m\n\u001b[1;32m   1517\u001b[0m \u001b[38;5;28;01melse\u001b[39;00m:\n\u001b[0;32m-> 1518\u001b[0m     \u001b[38;5;28;01mreturn\u001b[39;00m \u001b[38;5;28;43mself\u001b[39;49m\u001b[38;5;241;43m.\u001b[39;49m\u001b[43m_call_impl\u001b[49m\u001b[43m(\u001b[49m\u001b[38;5;241;43m*\u001b[39;49m\u001b[43margs\u001b[49m\u001b[43m,\u001b[49m\u001b[43m \u001b[49m\u001b[38;5;241;43m*\u001b[39;49m\u001b[38;5;241;43m*\u001b[39;49m\u001b[43mkwargs\u001b[49m\u001b[43m)\u001b[49m\n",
      "File \u001b[0;32m~/miniconda3/envs/torch/lib/python3.11/site-packages/torch/nn/modules/module.py:1527\u001b[0m, in \u001b[0;36mModule._call_impl\u001b[0;34m(self, *args, **kwargs)\u001b[0m\n\u001b[1;32m   1522\u001b[0m \u001b[38;5;66;03m# If we don't have any hooks, we want to skip the rest of the logic in\u001b[39;00m\n\u001b[1;32m   1523\u001b[0m \u001b[38;5;66;03m# this function, and just call forward.\u001b[39;00m\n\u001b[1;32m   1524\u001b[0m \u001b[38;5;28;01mif\u001b[39;00m \u001b[38;5;129;01mnot\u001b[39;00m (\u001b[38;5;28mself\u001b[39m\u001b[38;5;241m.\u001b[39m_backward_hooks \u001b[38;5;129;01mor\u001b[39;00m \u001b[38;5;28mself\u001b[39m\u001b[38;5;241m.\u001b[39m_backward_pre_hooks \u001b[38;5;129;01mor\u001b[39;00m \u001b[38;5;28mself\u001b[39m\u001b[38;5;241m.\u001b[39m_forward_hooks \u001b[38;5;129;01mor\u001b[39;00m \u001b[38;5;28mself\u001b[39m\u001b[38;5;241m.\u001b[39m_forward_pre_hooks\n\u001b[1;32m   1525\u001b[0m         \u001b[38;5;129;01mor\u001b[39;00m _global_backward_pre_hooks \u001b[38;5;129;01mor\u001b[39;00m _global_backward_hooks\n\u001b[1;32m   1526\u001b[0m         \u001b[38;5;129;01mor\u001b[39;00m _global_forward_hooks \u001b[38;5;129;01mor\u001b[39;00m _global_forward_pre_hooks):\n\u001b[0;32m-> 1527\u001b[0m     \u001b[38;5;28;01mreturn\u001b[39;00m \u001b[43mforward_call\u001b[49m\u001b[43m(\u001b[49m\u001b[38;5;241;43m*\u001b[39;49m\u001b[43margs\u001b[49m\u001b[43m,\u001b[49m\u001b[43m \u001b[49m\u001b[38;5;241;43m*\u001b[39;49m\u001b[38;5;241;43m*\u001b[39;49m\u001b[43mkwargs\u001b[49m\u001b[43m)\u001b[49m\n\u001b[1;32m   1529\u001b[0m \u001b[38;5;28;01mtry\u001b[39;00m:\n\u001b[1;32m   1530\u001b[0m     result \u001b[38;5;241m=\u001b[39m \u001b[38;5;28;01mNone\u001b[39;00m\n",
      "File \u001b[0;32m~/miniconda3/envs/torch/lib/python3.11/site-packages/torch/nn/modules/container.py:215\u001b[0m, in \u001b[0;36mSequential.forward\u001b[0;34m(self, input)\u001b[0m\n\u001b[1;32m    213\u001b[0m \u001b[38;5;28;01mdef\u001b[39;00m \u001b[38;5;21mforward\u001b[39m(\u001b[38;5;28mself\u001b[39m, \u001b[38;5;28minput\u001b[39m):\n\u001b[1;32m    214\u001b[0m     \u001b[38;5;28;01mfor\u001b[39;00m module \u001b[38;5;129;01min\u001b[39;00m \u001b[38;5;28mself\u001b[39m:\n\u001b[0;32m--> 215\u001b[0m         \u001b[38;5;28minput\u001b[39m \u001b[38;5;241m=\u001b[39m \u001b[43mmodule\u001b[49m\u001b[43m(\u001b[49m\u001b[38;5;28;43minput\u001b[39;49m\u001b[43m)\u001b[49m\n\u001b[1;32m    216\u001b[0m     \u001b[38;5;28;01mreturn\u001b[39;00m \u001b[38;5;28minput\u001b[39m\n",
      "File \u001b[0;32m~/miniconda3/envs/torch/lib/python3.11/site-packages/torch/nn/modules/module.py:1518\u001b[0m, in \u001b[0;36mModule._wrapped_call_impl\u001b[0;34m(self, *args, **kwargs)\u001b[0m\n\u001b[1;32m   1516\u001b[0m     \u001b[38;5;28;01mreturn\u001b[39;00m \u001b[38;5;28mself\u001b[39m\u001b[38;5;241m.\u001b[39m_compiled_call_impl(\u001b[38;5;241m*\u001b[39margs, \u001b[38;5;241m*\u001b[39m\u001b[38;5;241m*\u001b[39mkwargs)  \u001b[38;5;66;03m# type: ignore[misc]\u001b[39;00m\n\u001b[1;32m   1517\u001b[0m \u001b[38;5;28;01melse\u001b[39;00m:\n\u001b[0;32m-> 1518\u001b[0m     \u001b[38;5;28;01mreturn\u001b[39;00m \u001b[38;5;28;43mself\u001b[39;49m\u001b[38;5;241;43m.\u001b[39;49m\u001b[43m_call_impl\u001b[49m\u001b[43m(\u001b[49m\u001b[38;5;241;43m*\u001b[39;49m\u001b[43margs\u001b[49m\u001b[43m,\u001b[49m\u001b[43m \u001b[49m\u001b[38;5;241;43m*\u001b[39;49m\u001b[38;5;241;43m*\u001b[39;49m\u001b[43mkwargs\u001b[49m\u001b[43m)\u001b[49m\n",
      "File \u001b[0;32m~/miniconda3/envs/torch/lib/python3.11/site-packages/torch/nn/modules/module.py:1527\u001b[0m, in \u001b[0;36mModule._call_impl\u001b[0;34m(self, *args, **kwargs)\u001b[0m\n\u001b[1;32m   1522\u001b[0m \u001b[38;5;66;03m# If we don't have any hooks, we want to skip the rest of the logic in\u001b[39;00m\n\u001b[1;32m   1523\u001b[0m \u001b[38;5;66;03m# this function, and just call forward.\u001b[39;00m\n\u001b[1;32m   1524\u001b[0m \u001b[38;5;28;01mif\u001b[39;00m \u001b[38;5;129;01mnot\u001b[39;00m (\u001b[38;5;28mself\u001b[39m\u001b[38;5;241m.\u001b[39m_backward_hooks \u001b[38;5;129;01mor\u001b[39;00m \u001b[38;5;28mself\u001b[39m\u001b[38;5;241m.\u001b[39m_backward_pre_hooks \u001b[38;5;129;01mor\u001b[39;00m \u001b[38;5;28mself\u001b[39m\u001b[38;5;241m.\u001b[39m_forward_hooks \u001b[38;5;129;01mor\u001b[39;00m \u001b[38;5;28mself\u001b[39m\u001b[38;5;241m.\u001b[39m_forward_pre_hooks\n\u001b[1;32m   1525\u001b[0m         \u001b[38;5;129;01mor\u001b[39;00m _global_backward_pre_hooks \u001b[38;5;129;01mor\u001b[39;00m _global_backward_hooks\n\u001b[1;32m   1526\u001b[0m         \u001b[38;5;129;01mor\u001b[39;00m _global_forward_hooks \u001b[38;5;129;01mor\u001b[39;00m _global_forward_pre_hooks):\n\u001b[0;32m-> 1527\u001b[0m     \u001b[38;5;28;01mreturn\u001b[39;00m \u001b[43mforward_call\u001b[49m\u001b[43m(\u001b[49m\u001b[38;5;241;43m*\u001b[39;49m\u001b[43margs\u001b[49m\u001b[43m,\u001b[49m\u001b[43m \u001b[49m\u001b[38;5;241;43m*\u001b[39;49m\u001b[38;5;241;43m*\u001b[39;49m\u001b[43mkwargs\u001b[49m\u001b[43m)\u001b[49m\n\u001b[1;32m   1529\u001b[0m \u001b[38;5;28;01mtry\u001b[39;00m:\n\u001b[1;32m   1530\u001b[0m     result \u001b[38;5;241m=\u001b[39m \u001b[38;5;28;01mNone\u001b[39;00m\n",
      "File \u001b[0;32m~/miniconda3/envs/torch/lib/python3.11/site-packages/torch/nn/modules/conv.py:310\u001b[0m, in \u001b[0;36mConv1d.forward\u001b[0;34m(self, input)\u001b[0m\n\u001b[1;32m    309\u001b[0m \u001b[38;5;28;01mdef\u001b[39;00m \u001b[38;5;21mforward\u001b[39m(\u001b[38;5;28mself\u001b[39m, \u001b[38;5;28minput\u001b[39m: Tensor) \u001b[38;5;241m-\u001b[39m\u001b[38;5;241m>\u001b[39m Tensor:\n\u001b[0;32m--> 310\u001b[0m     \u001b[38;5;28;01mreturn\u001b[39;00m \u001b[38;5;28;43mself\u001b[39;49m\u001b[38;5;241;43m.\u001b[39;49m\u001b[43m_conv_forward\u001b[49m\u001b[43m(\u001b[49m\u001b[38;5;28;43minput\u001b[39;49m\u001b[43m,\u001b[49m\u001b[43m \u001b[49m\u001b[38;5;28;43mself\u001b[39;49m\u001b[38;5;241;43m.\u001b[39;49m\u001b[43mweight\u001b[49m\u001b[43m,\u001b[49m\u001b[43m \u001b[49m\u001b[38;5;28;43mself\u001b[39;49m\u001b[38;5;241;43m.\u001b[39;49m\u001b[43mbias\u001b[49m\u001b[43m)\u001b[49m\n",
      "File \u001b[0;32m~/miniconda3/envs/torch/lib/python3.11/site-packages/torch/nn/modules/conv.py:306\u001b[0m, in \u001b[0;36mConv1d._conv_forward\u001b[0;34m(self, input, weight, bias)\u001b[0m\n\u001b[1;32m    302\u001b[0m \u001b[38;5;28;01mif\u001b[39;00m \u001b[38;5;28mself\u001b[39m\u001b[38;5;241m.\u001b[39mpadding_mode \u001b[38;5;241m!=\u001b[39m \u001b[38;5;124m'\u001b[39m\u001b[38;5;124mzeros\u001b[39m\u001b[38;5;124m'\u001b[39m:\n\u001b[1;32m    303\u001b[0m     \u001b[38;5;28;01mreturn\u001b[39;00m F\u001b[38;5;241m.\u001b[39mconv1d(F\u001b[38;5;241m.\u001b[39mpad(\u001b[38;5;28minput\u001b[39m, \u001b[38;5;28mself\u001b[39m\u001b[38;5;241m.\u001b[39m_reversed_padding_repeated_twice, mode\u001b[38;5;241m=\u001b[39m\u001b[38;5;28mself\u001b[39m\u001b[38;5;241m.\u001b[39mpadding_mode),\n\u001b[1;32m    304\u001b[0m                     weight, bias, \u001b[38;5;28mself\u001b[39m\u001b[38;5;241m.\u001b[39mstride,\n\u001b[1;32m    305\u001b[0m                     _single(\u001b[38;5;241m0\u001b[39m), \u001b[38;5;28mself\u001b[39m\u001b[38;5;241m.\u001b[39mdilation, \u001b[38;5;28mself\u001b[39m\u001b[38;5;241m.\u001b[39mgroups)\n\u001b[0;32m--> 306\u001b[0m \u001b[38;5;28;01mreturn\u001b[39;00m \u001b[43mF\u001b[49m\u001b[38;5;241;43m.\u001b[39;49m\u001b[43mconv1d\u001b[49m\u001b[43m(\u001b[49m\u001b[38;5;28;43minput\u001b[39;49m\u001b[43m,\u001b[49m\u001b[43m \u001b[49m\u001b[43mweight\u001b[49m\u001b[43m,\u001b[49m\u001b[43m \u001b[49m\u001b[43mbias\u001b[49m\u001b[43m,\u001b[49m\u001b[43m \u001b[49m\u001b[38;5;28;43mself\u001b[39;49m\u001b[38;5;241;43m.\u001b[39;49m\u001b[43mstride\u001b[49m\u001b[43m,\u001b[49m\n\u001b[1;32m    307\u001b[0m \u001b[43m                \u001b[49m\u001b[38;5;28;43mself\u001b[39;49m\u001b[38;5;241;43m.\u001b[39;49m\u001b[43mpadding\u001b[49m\u001b[43m,\u001b[49m\u001b[43m \u001b[49m\u001b[38;5;28;43mself\u001b[39;49m\u001b[38;5;241;43m.\u001b[39;49m\u001b[43mdilation\u001b[49m\u001b[43m,\u001b[49m\u001b[43m \u001b[49m\u001b[38;5;28;43mself\u001b[39;49m\u001b[38;5;241;43m.\u001b[39;49m\u001b[43mgroups\u001b[49m\u001b[43m)\u001b[49m\n",
      "\u001b[0;31mOutOfMemoryError\u001b[0m: CUDA out of memory. Tried to allocate 4.88 GiB. GPU 0 has a total capacty of 5.80 GiB of which 3.07 GiB is free. Including non-PyTorch memory, this process has 2.71 GiB memory in use. Of the allocated memory 2.57 GiB is allocated by PyTorch, and 12.81 MiB is reserved by PyTorch but unallocated. If reserved but unallocated memory is large try setting max_split_size_mb to avoid fragmentation.  See documentation for Memory Management and PYTORCH_CUDA_ALLOC_CONF"
     ]
    }
   ],
   "source": [
    "model=auditory_transformer().to(device)\n",
    "with torch.inference_mode():\n",
    "    model((next(iter(train_loader))[0]).to(device)).shape"
   ]
  },
  {
   "cell_type": "code",
   "execution_count": null,
   "id": "dc0a9def-1d49-4f91-a497-49eb1fd2a679",
   "metadata": {},
   "outputs": [],
   "source": [
    "wv, sr=torchaudio.load(train_ds.paths[0])"
   ]
  },
  {
   "cell_type": "code",
   "execution_count": null,
   "id": "3ab2da0f-2d2e-4453-a790-05e9616dd0f4",
   "metadata": {},
   "outputs": [],
   "source": [
    "resmaple=torchaudio.transforms.Resample(torchaudio.load(train_ds.paths[0])[1],16000)"
   ]
  },
  {
   "cell_type": "code",
   "execution_count": null,
   "id": "2f184ef3-8336-459b-992c-611d39df4d9d",
   "metadata": {},
   "outputs": [],
   "source": [
    "resmaple(wv).shape"
   ]
  },
  {
   "cell_type": "code",
   "execution_count": null,
   "id": "a3aaeabb-d74d-4735-a47a-727bd4f43975",
   "metadata": {},
   "outputs": [],
   "source": [
    "model(next(iter(train_loader))[0].to(device))"
   ]
  },
  {
   "cell_type": "code",
   "execution_count": null,
   "id": "2cf462b6-5114-43f8-b3a1-9fd6129631ba",
   "metadata": {},
   "outputs": [],
   "source": []
  }
 ],
 "metadata": {
  "kernelspec": {
   "display_name": "Python 3 (ipykernel)",
   "language": "python",
   "name": "python3"
  },
  "language_info": {
   "codemirror_mode": {
    "name": "ipython",
    "version": 3
   },
   "file_extension": ".py",
   "mimetype": "text/x-python",
   "name": "python",
   "nbconvert_exporter": "python",
   "pygments_lexer": "ipython3",
   "version": "3.11.5"
  }
 },
 "nbformat": 4,
 "nbformat_minor": 5
}
