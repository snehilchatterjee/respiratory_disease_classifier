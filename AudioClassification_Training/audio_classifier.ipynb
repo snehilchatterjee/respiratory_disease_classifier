{
 "cells": [
  {
   "cell_type": "code",
   "execution_count": 7,
   "id": "c861209b-b406-4ceb-88f0-c4cda64deae6",
   "metadata": {},
   "outputs": [],
   "source": [
    "import torch\n",
    "from torch.utils.data import Dataset\n",
    "import torchaudio\n",
    "import os"
   ]
  },
  {
   "cell_type": "code",
   "execution_count": 8,
   "id": "9f6a0daf-3d9d-4e91-ad47-f0e65286bf28",
   "metadata": {},
   "outputs": [],
   "source": [
    "def audio_fetch(src,audio_paths):\n",
    "    l=os.listdir(src)\n",
    "    if(len(l)!=0):\n",
    "        for i in range(len(l)):\n",
    "            if(\".wav\" in l[i] or \".mp3\" in l[i] or \".aac\" in l[i]):\n",
    "                audio_paths.append(str(src+l[i]))\n",
    "            elif(\".\" not in l[i]):\n",
    "                try:\n",
    "                    audio_fetch(str(src+l[i]+\"/\"),audio_paths)\n",
    "                except:\n",
    "                    continue\n",
    "                            \n",
    "def class_fetch(audio_paths)->(list,dict):\n",
    "    s=set()\n",
    "    for i in audio_paths:\n",
    "        s.add(i.split(\"/\")[-2])\n",
    "    d={}\n",
    "    count=0\n",
    "    for i in s:\n",
    "        d[i]=count\n",
    "        count+=1\n",
    "    return list(s),d\n",
    "\n",
    "\n",
    "class modified_dataset_loader(Dataset):\n",
    "    def __init__(self,targ_dir: str,transformations=None):\n",
    "\n",
    "        self.transform=transformations\n",
    "        self.paths=[]\n",
    "        image_fetch(targ_dir,self.paths)\n",
    "        self.classes, self.class_to_idx=class_fetch(self.paths)\n",
    "\n",
    "    #def load_image(self,index)-> Image.Image:\n",
    "        #image_path=self.paths[index]\n",
    "        #return Image.open(image_path)\n",
    "\n",
    "    def __len__(self):\n",
    "        return len(self.paths)\n",
    "\n",
    "    def __getitem__(self,index):\n",
    "        image=self.load_image(index)\n",
    "        class_val=self.class_to_idx[(self.paths[index]).split(\"/\")[-2]]\n",
    "        if(self.transform):\n",
    "            image=self.transform(image)\n",
    "        return image,class_val"
   ]
  },
  {
   "cell_type": "code",
   "execution_count": 9,
   "id": "e3c73728-c4cd-43b5-9208-2d3b649319f2",
   "metadata": {},
   "outputs": [],
   "source": [
    "l=[]\n",
    "audio_fetch(\"../Sound_Classification/\",l)"
   ]
  },
  {
   "cell_type": "code",
   "execution_count": 12,
   "id": "1ee9fbf4-8673-444f-bf7d-37167d40138a",
   "metadata": {},
   "outputs": [
    {
     "data": {
      "text/plain": [
       "(['audio_and_txt_files'], {'audio_and_txt_files': 0})"
      ]
     },
     "execution_count": 12,
     "metadata": {},
     "output_type": "execute_result"
    }
   ],
   "source": [
    "class_fetch(l)"
   ]
  },
  {
   "cell_type": "code",
   "execution_count": null,
   "id": "9d59361e-6d17-4230-9894-30e277295574",
   "metadata": {},
   "outputs": [],
   "source": []
  }
 ],
 "metadata": {
  "kernelspec": {
   "display_name": "Python 3 (ipykernel)",
   "language": "python",
   "name": "python3"
  },
  "language_info": {
   "codemirror_mode": {
    "name": "ipython",
    "version": 3
   },
   "file_extension": ".py",
   "mimetype": "text/x-python",
   "name": "python",
   "nbconvert_exporter": "python",
   "pygments_lexer": "ipython3",
   "version": "3.11.5"
  }
 },
 "nbformat": 4,
 "nbformat_minor": 5
}
