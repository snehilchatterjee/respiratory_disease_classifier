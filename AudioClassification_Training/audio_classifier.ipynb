{
 "cells": [
  {
   "cell_type": "markdown",
   "id": "0f12a315-5e97-4026-a985-0d1c9fca9971",
   "metadata": {},
   "source": [
    "### Importing all libraries"
   ]
  },
  {
   "cell_type": "code",
   "execution_count": 14,
   "id": "c861209b-b406-4ceb-88f0-c4cda64deae6",
   "metadata": {},
   "outputs": [
    {
     "name": "stdout",
     "output_type": "stream",
     "text": [
      "Using cuda\n"
     ]
    }
   ],
   "source": [
    "#Importing audio file paths\n",
    "import os\n",
    "\n",
    "#For managing dataframe\n",
    "import pandas as pd\n",
    "import numpy as np\n",
    "\n",
    "#PyTorch\n",
    "import torchaudio\n",
    "import torch\n",
    "from torchmetrics.classification import MulticlassF1Score\n",
    "from torch.utils.tensorboard import SummaryWriter\n",
    "from torch.utils.data import Dataset\n",
    "from torch import nn\n",
    "\n",
    "# Misc.\n",
    "import multiprocessing # will be used for loading data using multipler workers (cpu_count)\n",
    "import warnings\n",
    "import librosa\n",
    "from sklearn.model_selection import train_test_split\n",
    "\n",
    "warnings.filterwarnings(\"ignore\")\n",
    "\n",
    "#Selecting device\n",
    "device=\"cuda\" if torch.cuda.is_available() else \"cpu\"\n",
    "\n",
    "print(f\"Using {device}\")"
   ]
  },
  {
   "cell_type": "markdown",
   "id": "856e9933-d394-4654-b4a6-c282b59dd9e5",
   "metadata": {},
   "source": [
    "### Recursively get all audio files"
   ]
  },
  {
   "cell_type": "code",
   "execution_count": 2,
   "id": "9f6a0daf-3d9d-4e91-ad47-f0e65286bf28",
   "metadata": {},
   "outputs": [],
   "source": [
    "def audio_fetch(src,audio_paths):\n",
    "    l=os.listdir(src)\n",
    "    if(len(l)!=0):\n",
    "        for i in range(len(l)):\n",
    "            if(\".wav\" in l[i] or \".mp3\" in l[i] or \".aac\" in l[i]):\n",
    "                audio_paths.append(str(src+l[i]))\n",
    "            elif(\".\" not in l[i]):\n",
    "                try:\n",
    "                    audio_fetch(str(src+\"/\"+l[i]+\"/\"),audio_paths)\n",
    "                except:\n",
    "                    continue\n",
    "                            \n",
    "# For getting all possible classes along with their label encoding as a dictionary\n",
    "def class_fetch(df: pd.DataFrame())->(list,dict):\n",
    "    s=set(sorted(df[1].unique()))\n",
    "    \n",
    "    toDel=[i for i in dict(df[1].value_counts(sort=True)).keys() if dict(df[1].value_counts(sort=True))[i]<3]\n",
    "    for i in toDel:\n",
    "        s.remove(i)\n",
    "    d={}\n",
    "    \n",
    "    toDel_ids=[]\n",
    "    for i in toDel:\n",
    "        toDel_ids.extend(list(df[df[1]==i][0].values))\n",
    "    \n",
    "    \n",
    "    count=0\n",
    "    for i in s:\n",
    "        d[i]=count\n",
    "        count+=1\n",
    "    return list(s),d, toDel_ids"
   ]
  },
  {
   "cell_type": "markdown",
   "id": "9f2801d1-6044-40a8-aefa-74ab85dee3af",
   "metadata": {},
   "source": [
    "### Dataset Class"
   ]
  },
  {
   "cell_type": "code",
   "execution_count": 3,
   "id": "e3c73728-c4cd-43b5-9208-2d3b649319f2",
   "metadata": {},
   "outputs": [],
   "source": [
    "def extract_process(data, sample_rate):\n",
    "    output_result = np.array([])\n",
    "\n",
    "    mean_zero = np.mean(librosa.feature.zero_crossing_rate(y=data).T, axis=0)\n",
    "    output_result = np.hstack((output_result, mean_zero))\n",
    "\n",
    "    \n",
    "    stft_out = np.abs(librosa.stft(data))\n",
    "    chroma_stft = np.mean(librosa.feature.chroma_stft(S=stft_out, sr=sample_rate).T, axis=0)\n",
    "    output_result = np.hstack((output_result, chroma_stft))\n",
    "\n",
    "    mfcc_out = np.mean(librosa.feature.mfcc(y=data, sr=sample_rate, n_mfcc=40).T, axis=0)\n",
    "    output_result = np.hstack((output_result, mfcc_out))\n",
    "\n",
    "    root_mean_out = np.mean(librosa.feature.rms(y=data).T, axis=0)\n",
    "    output_result = np.hstack((output_result, root_mean_out))\n",
    "\n",
    "    mel_spectogram = np.mean(librosa.feature.melspectrogram(y=data, sr=sample_rate).T, axis=0)\n",
    "    output_result = np.hstack((output_result, mel_spectogram))\n",
    "    \n",
    "\n",
    "    return output_result\n",
    "\n",
    "class audio_dataset(Dataset):\n",
    "    def __init__(self,\n",
    "                 info: str,\n",
    "                 audio_path=None,\n",
    "                 audio_files=None,\n",
    "                 header=None) -> None:\n",
    "        \n",
    "        self.paths=[]\n",
    "\n",
    "        if (audio_path==None and audio_files==None):\n",
    "            raise Exception(\"Both audio_path and audio_files cannot be None at the same time\")\n",
    "\n",
    "        if(audio_files==None):\n",
    "            audio_fetch(audio_path,self.paths)\n",
    "        else:\n",
    "            self.paths=audio_files\n",
    "        \n",
    "        self.patient=dict()\n",
    "        self.paths.sort() \n",
    "        \n",
    "        # We are going to remove all classes than 2 patient data\n",
    "\n",
    "        for i in self.paths:\n",
    "            index=int(i.split(\"/\")[-1].split(\"_\")[0])\n",
    "            self.patient[index]=[]\n",
    "        \n",
    "        for i in range(len(self.paths)):\n",
    "            self.patient[int(self.paths[i].split(\"/\")[-1].split(\"_\")[0])].append(self.paths[i])\n",
    "        \n",
    "        self.info_df=pd.read_csv(info,header=header)\n",
    "        self.classes, self.class_to_idx, self.ids_to_remove = class_fetch(self.info_df)\n",
    "\n",
    "        # After getting the patient ids to remove all the data from patient list is removed\n",
    "        for i in self.ids_to_remove:\n",
    "            if i in self.patient.keys():\n",
    "                self.patient.pop(i)\n",
    "\n",
    "        #Denotes sequence of audio files for a particular patient\n",
    "        self.sequence=list(self.patient.values())\n",
    "\n",
    "        # Audio path is updated after removing classing with small number of patients\n",
    "        self.paths=[]\n",
    "        for i in self.sequence:\n",
    "            if(i!=[]):\n",
    "                for j in i:\n",
    "                    self.paths.append(j)\n",
    "\n",
    "    \n",
    "    def get_class(self,file: str):\n",
    "        return self.info_df[self.info_df[0]==int(file.split(\"/\")[-1].split(\"_\")[0])][1].values[0]\n",
    "    \n",
    "    def __len__(self) -> int:\n",
    "        return len(self.paths)\n",
    "\n",
    "\n",
    "    def __getitem__(self, index: int) -> torch.Tensor():\n",
    "        self.val=self.paths[index]\n",
    "        self.class_val=self.class_to_idx[self.get_class(self.val)]\n",
    "\n",
    "        self.signal, self.sr = librosa.load(self.val)\n",
    "        self.signal = torch.unsqueeze(torch.from_numpy(extract_process(self.signal, self.sr)),dim=0).type(torch.float32)\n",
    "\n",
    "        return self.signal,self.class_val"
   ]
  },
  {
   "cell_type": "markdown",
   "id": "74d69c53-099d-4872-8995-1a22f40b5ffb",
   "metadata": {},
   "source": [
    "##### Testing audio dataset"
   ]
  },
  {
   "cell_type": "code",
   "execution_count": 4,
   "id": "1ee9fbf4-8673-444f-bf7d-37167d40138a",
   "metadata": {},
   "outputs": [
    {
     "data": {
      "text/plain": [
       "{'Bronchiolitis': 0,\n",
       " 'Pneumonia': 1,\n",
       " 'Healthy': 2,\n",
       " 'COPD': 3,\n",
       " 'URTI': 4,\n",
       " 'Bronchiectasis': 5}"
      ]
     },
     "execution_count": 4,
     "metadata": {},
     "output_type": "execute_result"
    }
   ],
   "source": [
    "ds=audio_dataset(audio_path=\"../Sound_Classification/archive/Respiratory_Sound_Database/\",info=\"../Sound_Classification/archive/respiratory_sound_database/Respiratory_Sound_Database/patient_diagnosis.csv\")\n",
    "ds.class_to_idx"
   ]
  },
  {
   "cell_type": "code",
   "execution_count": 5,
   "id": "9d59361e-6d17-4230-9894-30e277295574",
   "metadata": {},
   "outputs": [
    {
     "name": "stdout",
     "output_type": "stream",
     "text": [
      "123\n",
      "COPD\n"
     ]
    }
   ],
   "source": [
    "print(len(ds.sequence))\n",
    "print(ds.get_class(ds.paths[3]))"
   ]
  },
  {
   "cell_type": "markdown",
   "id": "65ad11d1-6b4a-47ed-a2b9-966513802e32",
   "metadata": {},
   "source": [
    "### Dataloader"
   ]
  },
  {
   "cell_type": "code",
   "execution_count": 6,
   "id": "0ffe44aa-4c99-48f3-b5be-7c4aebdefaa6",
   "metadata": {},
   "outputs": [
    {
     "name": "stdout",
     "output_type": "stream",
     "text": [
      "Before trimming:\n",
      "No. of audio files in train_ds: 552\n",
      "No. of audio files in test_ds: 184\n",
      "No. of audio files in val_ds: 184\n",
      "\n",
      "After trimming:\n",
      "No. of audio files in train_ds: 551\n",
      "No. of audio files in test_ds: 184\n",
      "No. of audio files in val_ds: 182\n"
     ]
    }
   ],
   "source": [
    "BATCH_SIZE=4\n",
    "NUM_WORKERS=multiprocessing.cpu_count()\n",
    "\n",
    "ds=[]\n",
    "audio_fetch(\"../Sound_Classification/archive/respiratory_sound_database/\",ds)\n",
    "\n",
    "# Perform train test split\n",
    "train_ds,temp_ds=train_test_split(ds,test_size=0.4)\n",
    "test_ds,val_ds=train_test_split(temp_ds,test_size=0.5)\n",
    "\n",
    "print(f\"Before trimming:\")\n",
    "print(f\"No. of audio files in train_ds: {len(train_ds)}\\nNo. of audio files in test_ds: {len(test_ds)}\\nNo. of audio files in val_ds: {len(val_ds)}\")\n",
    "\n",
    "train_ds=audio_dataset(audio_files=train_ds,info=\"../Sound_Classification/archive/respiratory_sound_database/Respiratory_Sound_Database/patient_diagnosis.csv\")\n",
    "test_ds=audio_dataset(audio_files=test_ds,info=\"../Sound_Classification/archive/respiratory_sound_database/Respiratory_Sound_Database/patient_diagnosis.csv\")\n",
    "val_ds=audio_dataset(audio_files=val_ds,info=\"../Sound_Classification/archive/respiratory_sound_database/Respiratory_Sound_Database/patient_diagnosis.csv\")\n",
    "\n",
    "print(f\"\\nAfter trimming:\")\n",
    "print(f\"No. of audio files in train_ds: {train_ds.__len__()}\\nNo. of audio files in test_ds: {test_ds.__len__()}\\nNo. of audio files in val_ds: {val_ds.__len__()}\")\n",
    "\n",
    "train_loader=torch.utils.data.DataLoader(train_ds,batch_size=BATCH_SIZE,shuffle=True,num_workers=NUM_WORKERS)\n",
    "test_loader=torch.utils.data.DataLoader(test_ds,batch_size=BATCH_SIZE,shuffle=True,num_workers=NUM_WORKERS)\n",
    "val_loader=torch.utils.data.DataLoader(val_ds,batch_size=BATCH_SIZE,shuffle=True,num_workers=NUM_WORKERS)"
   ]
  },
  {
   "cell_type": "markdown",
   "id": "2057acd7-5e6a-4e88-9759-502addf95d34",
   "metadata": {},
   "source": [
    "##### Checking dataloader"
   ]
  },
  {
   "cell_type": "code",
   "execution_count": 7,
   "id": "4ae0cf7d-392b-4756-a4d9-5ba707bd553e",
   "metadata": {},
   "outputs": [
    {
     "data": {
      "text/plain": [
       "torch.Size([4, 1, 182])"
      ]
     },
     "execution_count": 7,
     "metadata": {},
     "output_type": "execute_result"
    }
   ],
   "source": [
    "im=next(iter(train_loader))[0]\n",
    "im.shape"
   ]
  },
  {
   "cell_type": "code",
   "execution_count": 8,
   "id": "df4dfed6-97ff-400e-b204-92ff1255a4a2",
   "metadata": {},
   "outputs": [
    {
     "data": {
      "text/plain": [
       "torch.float32"
      ]
     },
     "execution_count": 8,
     "metadata": {},
     "output_type": "execute_result"
    }
   ],
   "source": [
    "im[0].dtype"
   ]
  },
  {
   "cell_type": "markdown",
   "id": "1d38bf3d-23c6-47ea-8826-e2a022997847",
   "metadata": {},
   "source": [
    "### Setting up Tensorboard and performance metrics"
   ]
  },
  {
   "cell_type": "code",
   "execution_count": 15,
   "id": "6c598063-414b-4cea-8030-4d210f02da60",
   "metadata": {},
   "outputs": [],
   "source": [
    "log_dir = \"../\"+\"performance\"\n",
    "writer = SummaryWriter(log_dir=log_dir)\n",
    "\n",
    "def accuracy_fn(logits,true):\n",
    "    return torch.eq(torch.argmax(torch.softmax(logits,dim=1),dim=1).squeeze(),true).sum().item()/len(logits)\n",
    "\n",
    "f1_fn=MulticlassF1Score(num_classes=len(train_ds.classes))"
   ]
  },
  {
   "cell_type": "markdown",
   "id": "39b5de65-db6c-4004-a018-7a2a65b43835",
   "metadata": {},
   "source": [
    "### Model 1 (Simple Conv1D Network)"
   ]
  },
  {
   "cell_type": "code",
   "execution_count": 16,
   "id": "3c83bc18-b8f6-41e9-afb9-da5daa7d9ee8",
   "metadata": {},
   "outputs": [],
   "source": [
    "class auditory_transformer(nn.Module):\n",
    "    def __init__(self):\n",
    "        super().__init__()\n",
    "        self.input_embedding=nn.Sequential(nn.Conv1d(in_channels=1,out_channels=128,kernel_size=4),\n",
    "                                           nn.ReLU(),\n",
    "                                           nn.BatchNorm1d(num_features=128),\n",
    "                                           nn.Conv1d(in_channels=128,out_channels=256,kernel_size=4),\n",
    "                                           nn.ReLU(),\n",
    "                                           nn.BatchNorm1d(num_features=256),\n",
    "                                           nn.Conv1d(in_channels=256,out_channels=512,kernel_size=4),\n",
    "                                           nn.ReLU(),\n",
    "                                           nn.BatchNorm1d(num_features=512),\n",
    "                                           nn.Conv1d(in_channels=512,out_channels=256,kernel_size=4),\n",
    "                                           nn.ReLU(),\n",
    "                                           nn.BatchNorm1d(num_features=256),\n",
    "                                           nn.Conv1d(in_channels=256,out_channels=128,kernel_size=5),\n",
    "                                           nn.ReLU(),\n",
    "                                           nn.BatchNorm1d(num_features=128),\n",
    "                                           nn.Conv1d(in_channels=128,out_channels=64,kernel_size=4),\n",
    "                                           nn.ReLU(),\n",
    "                                           nn.BatchNorm1d(num_features=64),\n",
    "                                           nn.Conv1d(in_channels=64,out_channels=4,kernel_size=4),\n",
    "                                           nn.ReLU(),\n",
    "                                           nn.Flatten(),\n",
    "                                           nn.ReLU(),\n",
    "                                           nn.Linear(in_features=640,out_features=len(train_ds.classes),bias=True))\n",
    "\n",
    "    def forward(self,x):\n",
    "        return self.input_embedding(x)"
   ]
  },
  {
   "cell_type": "markdown",
   "id": "133e12ef-d1b9-427b-9640-70295d8580fd",
   "metadata": {},
   "source": [
    "#### Model 1 testing and training"
   ]
  },
  {
   "cell_type": "code",
   "execution_count": 10,
   "id": "3e84ad23-c948-4730-9e56-55a6825b9bc9",
   "metadata": {},
   "outputs": [
    {
     "data": {
      "text/plain": [
       "torch.Size([4, 1, 182])"
      ]
     },
     "execution_count": 10,
     "metadata": {},
     "output_type": "execute_result"
    }
   ],
   "source": [
    "next(iter(train_loader))[0].shape"
   ]
  },
  {
   "cell_type": "code",
   "execution_count": 11,
   "id": "c814e529-32c3-4470-b631-8227b0ee741e",
   "metadata": {},
   "outputs": [
    {
     "name": "stdout",
     "output_type": "stream",
     "text": [
      "torch.Size([4, 6])\n"
     ]
    }
   ],
   "source": [
    "model=auditory_transformer().to(device)\n",
    "with torch.inference_mode():\n",
    "    print(model((next(iter(train_loader))[0]).to(device)).shape)"
   ]
  },
  {
   "cell_type": "markdown",
   "id": "ee834a69-5a41-46b3-a7c7-3aaa9cf9581d",
   "metadata": {},
   "source": [
    "##### Optimizer and loss function"
   ]
  },
  {
   "cell_type": "code",
   "execution_count": 17,
   "id": "cd1ea90b-9ab7-4d6f-8da5-120de81a747d",
   "metadata": {},
   "outputs": [],
   "source": [
    "optim=torch.optim.AdamW(params=model.parameters())\n",
    "loss_fn=nn.CrossEntropyLoss()"
   ]
  },
  {
   "cell_type": "markdown",
   "id": "e8f9a331-758c-4c24-b851-5d37eeb1a3d8",
   "metadata": {},
   "source": [
    "##### Training"
   ]
  },
  {
   "cell_type": "code",
   "execution_count": 22,
   "id": "cdbf76aa-fcbf-4b89-939e-dc23321e3d6d",
   "metadata": {},
   "outputs": [
    {
     "data": {
      "text/plain": [
       "0.5833333730697632"
      ]
     },
     "execution_count": 22,
     "metadata": {},
     "output_type": "execute_result"
    }
   ],
   "source": [
    "t1=torch.tensor([1,2,3,4,5,0])\n",
    "t2=torch.tensor([1,2,0,0,5,0])\n",
    "f1_fn(t1,t2).item()"
   ]
  },
  {
   "cell_type": "code",
   "execution_count": null,
   "id": "19fc1fb4-f158-4d41-ae4b-27a2a837394a",
   "metadata": {},
   "outputs": [],
   "source": [
    "epochs=10\n",
    "\n",
    "train_accuracy=[]\n",
    "test_accuracy=[]\n",
    "train_loss=[]\n",
    "test_loss=[]\n",
    "\n",
    "for i in tqdm(range(epochs)):\n",
    "    print(\"Training:\")\n",
    "    model.train()\n",
    "    \n",
    "    #Defining accuracy and loss for train and test data\n",
    "    temp_train_accuracy=[]\n",
    "    temp_test_accuracy=[]\n",
    "    temp_train_loss=[]\n",
    "    temp_test_loss=[]\n",
    "    temp_train_f1=[]\n",
    "    temp_test_f1=[]\n",
    "\n",
    "    net_train_accuracy=0\n",
    "    net_test_accuracy=0\n",
    "    net_train_loss=0\n",
    "    net_test_loss=0\n",
    "    net_train_f1=0\n",
    "    net_test_f1=0\n",
    "    \n",
    "    with tqdm(total=len(train_loader)) as pbar:\n",
    "        for x,y in train_loader:\n",
    "                x=x.to(device)\n",
    "                y=y.to(device)\n",
    "    \n",
    "                #Calculating model output\n",
    "                logits=model(x)\n",
    "    \n",
    "                #Reseting any old gradient values\n",
    "                optimizer.zero_grad()\n",
    "                loss=loss_fn(logits.squeeze(),y)\n",
    "            \n",
    "                #Track of metrics        \n",
    "                accuracy_train=accuracy_fn(logits.type(torch.float32),y)\n",
    "                f1_train=f1_fn(torch.argmax(torch.softmax(logits,dim=1),dim=1).squeeze(),y)\n",
    "                temp_train_accuracy.append(accuracy_train)\n",
    "                temp_train_loss.append(loss.item())\n",
    "                temp_train_f1.append(f1_train.item())\n",
    "            \n",
    "                #Back Propogation\n",
    "                loss.backward()\n",
    "            \n",
    "                #Update Parameters\n",
    "                optimizer.step()\n",
    "            \n",
    "                #Progress Bar Update\n",
    "                pbar.update(1)\n",
    "        pbar.close()\n",
    "    #Tensorboard & Metrics for the dataset\n",
    "    net_train_accuracy=sum(temp_train_accuracy)/len(temp_train_accuracy)\n",
    "    net_train_loss=sum(temp_train_loss)/len(temp_train_loss)\n",
    "    net_train_f1=sim(temp_train_f1)/len(temp_train_f1)\n",
    "    train_accuracy.append(net_train_accuracy)\n",
    "    train_loss.append(net_train_loss)\n",
    "    writer.add_scalar(\"Train Accuracy\",net_train_accuracy,i)\n",
    "    writer.add_scalar(\"Train Loss\",net_train_loss,i)\n",
    "    writer.add_scalar(\"Train F1 Score\",net_train_f1)\n",
    "\n",
    "    #Evaluation\n",
    "    print(\"Testing:\")\n",
    "    model.eval()\n",
    "\n",
    "    with tqdm(total=len(test_loader)) as pbar2:\n",
    "        for x,y in test_loader:\n",
    "            x=x.to(device)\n",
    "            y=y.to(device)\n",
    "            \n",
    "            #Setting inference mode\n",
    "            with torch.inference_mode():\n",
    "                logits=model(x)\n",
    "                loss=loss_fn(logits.squeeze().type(torch.float32),y)\n",
    "\n",
    "                #Track of metrics\n",
    "                accuracy_test=accuracy_fn(logits,y)\n",
    "                f1_test=f1_fn(torch.argmax(torch.softmax(logits,dim=1),dim=1).squeeze(),y)\n",
    "                temp_test_accuracy.append(accuracy_test)\n",
    "                temp_test_loss.append(loss.item())\n",
    "                temp_test_f1.append(f1_test.item())\n",
    "\n",
    "                #Progress Bar Update\n",
    "                pbar2.update(1)\n",
    "        pbar2.close()\n",
    "\n",
    "    #Tensorboard & Metrics for the dataset\n",
    "    net_test_accuracy=sum(temp_test_accuracy)/len(temp_test_accuracy)\n",
    "    net_test_loss=sum(temp_test_loss)/len(temp_test_loss)\n",
    "    net_test_f1=sum(temp_test_f1)/len(temp_test_f1)\n",
    "    test_accuracy.append(net_test_accuracy)\n",
    "    test_loss.append(net_test_loss)\n",
    "    writer.add_scalar(\"Test Accuracy\",net_test_accuracy,i)\n",
    "    writer.add_scalar(\"Test Loss\",net_test_loss,i)\n",
    "    writer.add_scalar(\"Test F1 Score\",net_test_f1,i)\n",
    "\n",
    "    '''\n",
    "    #Saving the model\n",
    "    try:\n",
    "        os.makedirs(f\"./{model_name}_feature_extractor/\")\n",
    "    except Exception as e:\n",
    "        pass\n",
    "    torch.save(model.state_dict(),f\"./{model_name}_feature_extractor/checkpoint-{i+1}.pth\")\n",
    "    '''\n",
    "    \n",
    "    print(f\"Epoch {i+1}:\\nTrain Accuracy: {net_train_accuracy}  Train Loss: {net_train_loss}  Test Accuracy: {net_test_accuracy}  Test Loss: {net_test_loss}\")\n",
    "    print(\"\\n\")"
   ]
  }
 ],
 "metadata": {
  "kernelspec": {
   "display_name": "Python 3 (ipykernel)",
   "language": "python",
   "name": "python3"
  },
  "language_info": {
   "codemirror_mode": {
    "name": "ipython",
    "version": 3
   },
   "file_extension": ".py",
   "mimetype": "text/x-python",
   "name": "python",
   "nbconvert_exporter": "python",
   "pygments_lexer": "ipython3",
   "version": "3.11.5"
  }
 },
 "nbformat": 4,
 "nbformat_minor": 5
}
